{
 "cells": [
  {
   "cell_type": "code",
   "execution_count": 1,
   "id": "3025a1de-c563-4cfc-b13a-af32b31f662f",
   "metadata": {},
   "outputs": [],
   "source": [
    "import pandas as pd\n",
    "import numpy as np"
   ]
  },
  {
   "cell_type": "code",
   "execution_count": 2,
   "id": "c79e0453-a63f-41fe-bbb9-2986b35cf0bc",
   "metadata": {},
   "outputs": [],
   "source": [
    "df = pd.read_csv(\"netflix_titles.csv\")"
   ]
  },
  {
   "cell_type": "code",
   "execution_count": 3,
   "id": "8bc2108f-60fa-48e4-9493-f4d473b9a1e8",
   "metadata": {},
   "outputs": [
    {
     "data": {
      "text/plain": [
       "(7787, 12)"
      ]
     },
     "execution_count": 3,
     "metadata": {},
     "output_type": "execute_result"
    }
   ],
   "source": [
    "df.shape"
   ]
  },
  {
   "cell_type": "code",
   "execution_count": 4,
   "id": "12921ad4-e2ef-4996-9aac-302f7c20e36a",
   "metadata": {},
   "outputs": [
    {
     "data": {
      "text/plain": [
       "Index(['show_id', 'type', 'title', 'director', 'cast', 'country', 'date_added',\n",
       "       'release_year', 'rating', 'duration', 'listed_in', 'description'],\n",
       "      dtype='object')"
      ]
     },
     "execution_count": 4,
     "metadata": {},
     "output_type": "execute_result"
    }
   ],
   "source": [
    "df.columns"
   ]
  },
  {
   "cell_type": "code",
   "execution_count": 5,
   "id": "5d730605-7f98-4215-a814-d8dafc9bc01d",
   "metadata": {},
   "outputs": [],
   "source": [
    "df = df.drop(['date_added','release_year'],axis = 1)"
   ]
  },
  {
   "cell_type": "code",
   "execution_count": 6,
   "id": "a5d50eb7-73e3-4ef2-a8a6-cde45f97417d",
   "metadata": {},
   "outputs": [
    {
     "data": {
      "text/plain": [
       "Index(['show_id', 'type', 'title', 'director', 'cast', 'country', 'rating',\n",
       "       'duration', 'listed_in', 'description'],\n",
       "      dtype='object')"
      ]
     },
     "execution_count": 6,
     "metadata": {},
     "output_type": "execute_result"
    }
   ],
   "source": [
    "df.columns"
   ]
  },
  {
   "cell_type": "markdown",
   "id": "392beaa0-4ff7-4f44-916a-ed216c34258b",
   "metadata": {},
   "source": [
    "#### Replacing all the NaN values with 'Unknown'"
   ]
  },
  {
   "cell_type": "code",
   "execution_count": 7,
   "id": "2f68212e-f5c1-49d5-a5d9-5a69c11f7186",
   "metadata": {},
   "outputs": [],
   "source": [
    "df = df.replace(np.nan,'Unknown', regex=True)"
   ]
  },
  {
   "cell_type": "code",
   "execution_count": 8,
   "id": "8a91af6e-95a6-4622-a192-48a7221a5cba",
   "metadata": {},
   "outputs": [],
   "source": [
    "df['director'] = df['director'].str.lower()\n",
    "df['cast'] = df['cast'].str.lower()\n",
    "df['listed_in'] = df['listed_in'].str.lower()\n",
    "df['description'] = df['description'].str.lower()\n",
    "df['country'] = df['country'].str.lower()"
   ]
  },
  {
   "cell_type": "code",
   "execution_count": 9,
   "id": "fba5705d-3769-41d9-ba3b-f7bf0b35e603",
   "metadata": {},
   "outputs": [
    {
     "data": {
      "text/html": [
       "<div>\n",
       "<style scoped>\n",
       "    .dataframe tbody tr th:only-of-type {\n",
       "        vertical-align: middle;\n",
       "    }\n",
       "\n",
       "    .dataframe tbody tr th {\n",
       "        vertical-align: top;\n",
       "    }\n",
       "\n",
       "    .dataframe thead th {\n",
       "        text-align: right;\n",
       "    }\n",
       "</style>\n",
       "<table border=\"1\" class=\"dataframe\">\n",
       "  <thead>\n",
       "    <tr style=\"text-align: right;\">\n",
       "      <th></th>\n",
       "      <th>show_id</th>\n",
       "      <th>type</th>\n",
       "      <th>title</th>\n",
       "      <th>director</th>\n",
       "      <th>cast</th>\n",
       "      <th>country</th>\n",
       "      <th>rating</th>\n",
       "      <th>duration</th>\n",
       "      <th>listed_in</th>\n",
       "      <th>description</th>\n",
       "    </tr>\n",
       "  </thead>\n",
       "  <tbody>\n",
       "    <tr>\n",
       "      <th>0</th>\n",
       "      <td>s1</td>\n",
       "      <td>TV Show</td>\n",
       "      <td>3%</td>\n",
       "      <td>unknown</td>\n",
       "      <td>joão miguel, bianca comparato, michel gomes, r...</td>\n",
       "      <td>brazil</td>\n",
       "      <td>TV-MA</td>\n",
       "      <td>4 Seasons</td>\n",
       "      <td>international tv shows, tv dramas, tv sci-fi &amp;...</td>\n",
       "      <td>in a future where the elite inhabit an island ...</td>\n",
       "    </tr>\n",
       "    <tr>\n",
       "      <th>1</th>\n",
       "      <td>s2</td>\n",
       "      <td>Movie</td>\n",
       "      <td>7:19</td>\n",
       "      <td>jorge michel grau</td>\n",
       "      <td>demián bichir, héctor bonilla, oscar serrano, ...</td>\n",
       "      <td>mexico</td>\n",
       "      <td>TV-MA</td>\n",
       "      <td>93 min</td>\n",
       "      <td>dramas, international movies</td>\n",
       "      <td>after a devastating earthquake hits mexico cit...</td>\n",
       "    </tr>\n",
       "    <tr>\n",
       "      <th>2</th>\n",
       "      <td>s3</td>\n",
       "      <td>Movie</td>\n",
       "      <td>23:59</td>\n",
       "      <td>gilbert chan</td>\n",
       "      <td>tedd chan, stella chung, henley hii, lawrence ...</td>\n",
       "      <td>singapore</td>\n",
       "      <td>R</td>\n",
       "      <td>78 min</td>\n",
       "      <td>horror movies, international movies</td>\n",
       "      <td>when an army recruit is found dead, his fellow...</td>\n",
       "    </tr>\n",
       "    <tr>\n",
       "      <th>3</th>\n",
       "      <td>s4</td>\n",
       "      <td>Movie</td>\n",
       "      <td>9</td>\n",
       "      <td>shane acker</td>\n",
       "      <td>elijah wood, john c. reilly, jennifer connelly...</td>\n",
       "      <td>united states</td>\n",
       "      <td>PG-13</td>\n",
       "      <td>80 min</td>\n",
       "      <td>action &amp; adventure, independent movies, sci-fi...</td>\n",
       "      <td>in a postapocalyptic world, rag-doll robots hi...</td>\n",
       "    </tr>\n",
       "    <tr>\n",
       "      <th>4</th>\n",
       "      <td>s5</td>\n",
       "      <td>Movie</td>\n",
       "      <td>21</td>\n",
       "      <td>robert luketic</td>\n",
       "      <td>jim sturgess, kevin spacey, kate bosworth, aar...</td>\n",
       "      <td>united states</td>\n",
       "      <td>PG-13</td>\n",
       "      <td>123 min</td>\n",
       "      <td>dramas</td>\n",
       "      <td>a brilliant group of students become card-coun...</td>\n",
       "    </tr>\n",
       "  </tbody>\n",
       "</table>\n",
       "</div>"
      ],
      "text/plain": [
       "  show_id     type  title           director  \\\n",
       "0      s1  TV Show     3%            unknown   \n",
       "1      s2    Movie   7:19  jorge michel grau   \n",
       "2      s3    Movie  23:59       gilbert chan   \n",
       "3      s4    Movie      9        shane acker   \n",
       "4      s5    Movie     21     robert luketic   \n",
       "\n",
       "                                                cast        country rating  \\\n",
       "0  joão miguel, bianca comparato, michel gomes, r...         brazil  TV-MA   \n",
       "1  demián bichir, héctor bonilla, oscar serrano, ...         mexico  TV-MA   \n",
       "2  tedd chan, stella chung, henley hii, lawrence ...      singapore      R   \n",
       "3  elijah wood, john c. reilly, jennifer connelly...  united states  PG-13   \n",
       "4  jim sturgess, kevin spacey, kate bosworth, aar...  united states  PG-13   \n",
       "\n",
       "    duration                                          listed_in  \\\n",
       "0  4 Seasons  international tv shows, tv dramas, tv sci-fi &...   \n",
       "1     93 min                       dramas, international movies   \n",
       "2     78 min                horror movies, international movies   \n",
       "3     80 min  action & adventure, independent movies, sci-fi...   \n",
       "4    123 min                                             dramas   \n",
       "\n",
       "                                         description  \n",
       "0  in a future where the elite inhabit an island ...  \n",
       "1  after a devastating earthquake hits mexico cit...  \n",
       "2  when an army recruit is found dead, his fellow...  \n",
       "3  in a postapocalyptic world, rag-doll robots hi...  \n",
       "4  a brilliant group of students become card-coun...  "
      ]
     },
     "execution_count": 9,
     "metadata": {},
     "output_type": "execute_result"
    }
   ],
   "source": [
    "df.head()"
   ]
  },
  {
   "cell_type": "markdown",
   "id": "8ab149ac-ba1a-48d8-999b-fa67f8c5547e",
   "metadata": {},
   "source": [
    "#### Removing punctuation from the attribute 'Description'"
   ]
  },
  {
   "cell_type": "code",
   "execution_count": 10,
   "id": "dcec533e-ca13-4278-ab03-3003714f13ad",
   "metadata": {},
   "outputs": [],
   "source": [
    "import string"
   ]
  },
  {
   "cell_type": "code",
   "execution_count": 11,
   "id": "cab39ae8-8dad-47f3-9b3e-43db1fd45efd",
   "metadata": {},
   "outputs": [
    {
     "name": "stderr",
     "output_type": "stream",
     "text": [
      "<ipython-input-11-d3a77b8d1c23>:1: FutureWarning: The default value of regex will change from True to False in a future version.\n",
      "  df['description'] = df['description'].str.replace('[{}]'.format(string.punctuation), '')\n"
     ]
    }
   ],
   "source": [
    "df['description'] = df['description'].str.replace('[{}]'.format(string.punctuation), '')"
   ]
  },
  {
   "cell_type": "markdown",
   "id": "8318af21-d3b4-4416-b075-b7bf0668286f",
   "metadata": {},
   "source": [
    "#### Removing stopwords from the attibute 'Description'"
   ]
  },
  {
   "cell_type": "code",
   "execution_count": 12,
   "id": "b3543442-9408-40a2-b4fe-fbc80fe4c456",
   "metadata": {},
   "outputs": [],
   "source": [
    "import nltk"
   ]
  },
  {
   "cell_type": "code",
   "execution_count": 13,
   "id": "6344bd33-4e82-4b6b-abcb-75f1a9832e62",
   "metadata": {},
   "outputs": [
    {
     "name": "stderr",
     "output_type": "stream",
     "text": [
      "[nltk_data] Downloading package punkt to C:\\Users\\Saurabh\n",
      "[nltk_data]     Sonawane\\AppData\\Roaming\\nltk_data...\n",
      "[nltk_data]   Package punkt is already up-to-date!\n"
     ]
    },
    {
     "data": {
      "text/plain": [
       "True"
      ]
     },
     "execution_count": 13,
     "metadata": {},
     "output_type": "execute_result"
    }
   ],
   "source": [
    "from nltk.corpus import stopwords\n",
    "from nltk.tokenize import word_tokenize\n",
    "stopwds = stopwords.words('english')\n",
    "nltk.download('punkt')"
   ]
  },
  {
   "cell_type": "code",
   "execution_count": 14,
   "id": "4d3755a1-3024-4c94-bf1c-5c202636c207",
   "metadata": {},
   "outputs": [],
   "source": [
    "def removestopwds(get):\n",
    "    word_tokens = word_tokenize(get)\n",
    "    result = [w for w in word_tokens if not w.lower() in stopwds]\n",
    "    result = []\n",
    "    for w in word_tokens:\n",
    "        if w not in stopwds:\n",
    "            result.append(w)\n",
    "    \n",
    "    return result          "
   ]
  },
  {
   "cell_type": "code",
   "execution_count": 15,
   "id": "4db86151-a41a-4b5e-a635-9164b30a764f",
   "metadata": {},
   "outputs": [],
   "source": [
    "df['description'] = df['description'].apply(lambda x: removestopwds(x))"
   ]
  },
  {
   "cell_type": "markdown",
   "id": "d816c9e9-f126-4a32-8be6-6b31a4ba8b55",
   "metadata": {},
   "source": [
    "#### Making tags by concatenating relevent attributes. These tags will later be converted to vectors."
   ]
  },
  {
   "cell_type": "code",
   "execution_count": 16,
   "id": "9330f30c-7d88-4cca-a1e2-1d9c06200baf",
   "metadata": {},
   "outputs": [],
   "source": [
    "df['listed_in'] = df.listed_in.apply(lambda x: x.split(','))\n",
    "df['cast'] = df.cast.apply(lambda x: x.split(','))\n",
    "df['director'] = df.director.apply(lambda x: x.split(','))\n",
    "df['country'] = df.country.apply(lambda x: x.split(','))"
   ]
  },
  {
   "cell_type": "code",
   "execution_count": 17,
   "id": "5f86eb51-f66c-4496-9b24-2bcc3a92ceca",
   "metadata": {},
   "outputs": [
    {
     "data": {
      "text/html": [
       "<div>\n",
       "<style scoped>\n",
       "    .dataframe tbody tr th:only-of-type {\n",
       "        vertical-align: middle;\n",
       "    }\n",
       "\n",
       "    .dataframe tbody tr th {\n",
       "        vertical-align: top;\n",
       "    }\n",
       "\n",
       "    .dataframe thead th {\n",
       "        text-align: right;\n",
       "    }\n",
       "</style>\n",
       "<table border=\"1\" class=\"dataframe\">\n",
       "  <thead>\n",
       "    <tr style=\"text-align: right;\">\n",
       "      <th></th>\n",
       "      <th>show_id</th>\n",
       "      <th>type</th>\n",
       "      <th>title</th>\n",
       "      <th>director</th>\n",
       "      <th>cast</th>\n",
       "      <th>country</th>\n",
       "      <th>rating</th>\n",
       "      <th>duration</th>\n",
       "      <th>listed_in</th>\n",
       "      <th>description</th>\n",
       "    </tr>\n",
       "  </thead>\n",
       "  <tbody>\n",
       "    <tr>\n",
       "      <th>0</th>\n",
       "      <td>s1</td>\n",
       "      <td>TV Show</td>\n",
       "      <td>3%</td>\n",
       "      <td>[unknown]</td>\n",
       "      <td>[joão miguel,  bianca comparato,  michel gomes...</td>\n",
       "      <td>[brazil]</td>\n",
       "      <td>TV-MA</td>\n",
       "      <td>4 Seasons</td>\n",
       "      <td>[international tv shows,  tv dramas,  tv sci-f...</td>\n",
       "      <td>[future, elite, inhabit, island, paradise, far...</td>\n",
       "    </tr>\n",
       "    <tr>\n",
       "      <th>1</th>\n",
       "      <td>s2</td>\n",
       "      <td>Movie</td>\n",
       "      <td>7:19</td>\n",
       "      <td>[jorge michel grau]</td>\n",
       "      <td>[demián bichir,  héctor bonilla,  oscar serran...</td>\n",
       "      <td>[mexico]</td>\n",
       "      <td>TV-MA</td>\n",
       "      <td>93 min</td>\n",
       "      <td>[dramas,  international movies]</td>\n",
       "      <td>[devastating, earthquake, hits, mexico, city, ...</td>\n",
       "    </tr>\n",
       "    <tr>\n",
       "      <th>2</th>\n",
       "      <td>s3</td>\n",
       "      <td>Movie</td>\n",
       "      <td>23:59</td>\n",
       "      <td>[gilbert chan]</td>\n",
       "      <td>[tedd chan,  stella chung,  henley hii,  lawre...</td>\n",
       "      <td>[singapore]</td>\n",
       "      <td>R</td>\n",
       "      <td>78 min</td>\n",
       "      <td>[horror movies,  international movies]</td>\n",
       "      <td>[army, recruit, found, dead, fellow, soldiers,...</td>\n",
       "    </tr>\n",
       "    <tr>\n",
       "      <th>3</th>\n",
       "      <td>s4</td>\n",
       "      <td>Movie</td>\n",
       "      <td>9</td>\n",
       "      <td>[shane acker]</td>\n",
       "      <td>[elijah wood,  john c. reilly,  jennifer conne...</td>\n",
       "      <td>[united states]</td>\n",
       "      <td>PG-13</td>\n",
       "      <td>80 min</td>\n",
       "      <td>[action &amp; adventure,  independent movies,  sci...</td>\n",
       "      <td>[postapocalyptic, world, ragdoll, robots, hide...</td>\n",
       "    </tr>\n",
       "    <tr>\n",
       "      <th>4</th>\n",
       "      <td>s5</td>\n",
       "      <td>Movie</td>\n",
       "      <td>21</td>\n",
       "      <td>[robert luketic]</td>\n",
       "      <td>[jim sturgess,  kevin spacey,  kate bosworth, ...</td>\n",
       "      <td>[united states]</td>\n",
       "      <td>PG-13</td>\n",
       "      <td>123 min</td>\n",
       "      <td>[dramas]</td>\n",
       "      <td>[brilliant, group, students, become, cardcount...</td>\n",
       "    </tr>\n",
       "  </tbody>\n",
       "</table>\n",
       "</div>"
      ],
      "text/plain": [
       "  show_id     type  title             director  \\\n",
       "0      s1  TV Show     3%            [unknown]   \n",
       "1      s2    Movie   7:19  [jorge michel grau]   \n",
       "2      s3    Movie  23:59       [gilbert chan]   \n",
       "3      s4    Movie      9        [shane acker]   \n",
       "4      s5    Movie     21     [robert luketic]   \n",
       "\n",
       "                                                cast          country rating  \\\n",
       "0  [joão miguel,  bianca comparato,  michel gomes...         [brazil]  TV-MA   \n",
       "1  [demián bichir,  héctor bonilla,  oscar serran...         [mexico]  TV-MA   \n",
       "2  [tedd chan,  stella chung,  henley hii,  lawre...      [singapore]      R   \n",
       "3  [elijah wood,  john c. reilly,  jennifer conne...  [united states]  PG-13   \n",
       "4  [jim sturgess,  kevin spacey,  kate bosworth, ...  [united states]  PG-13   \n",
       "\n",
       "    duration                                          listed_in  \\\n",
       "0  4 Seasons  [international tv shows,  tv dramas,  tv sci-f...   \n",
       "1     93 min                    [dramas,  international movies]   \n",
       "2     78 min             [horror movies,  international movies]   \n",
       "3     80 min  [action & adventure,  independent movies,  sci...   \n",
       "4    123 min                                           [dramas]   \n",
       "\n",
       "                                         description  \n",
       "0  [future, elite, inhabit, island, paradise, far...  \n",
       "1  [devastating, earthquake, hits, mexico, city, ...  \n",
       "2  [army, recruit, found, dead, fellow, soldiers,...  \n",
       "3  [postapocalyptic, world, ragdoll, robots, hide...  \n",
       "4  [brilliant, group, students, become, cardcount...  "
      ]
     },
     "execution_count": 17,
     "metadata": {},
     "output_type": "execute_result"
    }
   ],
   "source": [
    "df.head()"
   ]
  },
  {
   "cell_type": "code",
   "execution_count": 18,
   "id": "66793bd7-94f8-476a-a58a-75d02c54c903",
   "metadata": {},
   "outputs": [],
   "source": [
    "df['director'] = df['director'].apply(lambda x:[i.replace(\" \",\"\") for i in x])\n",
    "df['cast'] = df['cast'].apply(lambda x:[i.replace(\" \",\"\") for i in x])\n",
    "df['listed_in'] = df['listed_in'].apply(lambda x:[i.replace(\" \",\"\") for i in x])\n",
    "df['country'] = df['country'].apply(lambda x:[i.replace(\" \",\"\") for i in x])"
   ]
  },
  {
   "cell_type": "code",
   "execution_count": 19,
   "id": "d3ab9908-7e06-4525-8ba0-1977aa3ba999",
   "metadata": {},
   "outputs": [
    {
     "data": {
      "text/html": [
       "<div>\n",
       "<style scoped>\n",
       "    .dataframe tbody tr th:only-of-type {\n",
       "        vertical-align: middle;\n",
       "    }\n",
       "\n",
       "    .dataframe tbody tr th {\n",
       "        vertical-align: top;\n",
       "    }\n",
       "\n",
       "    .dataframe thead th {\n",
       "        text-align: right;\n",
       "    }\n",
       "</style>\n",
       "<table border=\"1\" class=\"dataframe\">\n",
       "  <thead>\n",
       "    <tr style=\"text-align: right;\">\n",
       "      <th></th>\n",
       "      <th>show_id</th>\n",
       "      <th>type</th>\n",
       "      <th>title</th>\n",
       "      <th>director</th>\n",
       "      <th>cast</th>\n",
       "      <th>country</th>\n",
       "      <th>rating</th>\n",
       "      <th>duration</th>\n",
       "      <th>listed_in</th>\n",
       "      <th>description</th>\n",
       "    </tr>\n",
       "  </thead>\n",
       "  <tbody>\n",
       "    <tr>\n",
       "      <th>0</th>\n",
       "      <td>s1</td>\n",
       "      <td>TV Show</td>\n",
       "      <td>3%</td>\n",
       "      <td>[unknown]</td>\n",
       "      <td>[joãomiguel, biancacomparato, michelgomes, rod...</td>\n",
       "      <td>[brazil]</td>\n",
       "      <td>TV-MA</td>\n",
       "      <td>4 Seasons</td>\n",
       "      <td>[internationaltvshows, tvdramas, tvsci-fi&amp;fant...</td>\n",
       "      <td>[future, elite, inhabit, island, paradise, far...</td>\n",
       "    </tr>\n",
       "    <tr>\n",
       "      <th>1</th>\n",
       "      <td>s2</td>\n",
       "      <td>Movie</td>\n",
       "      <td>7:19</td>\n",
       "      <td>[jorgemichelgrau]</td>\n",
       "      <td>[demiánbichir, héctorbonilla, oscarserrano, az...</td>\n",
       "      <td>[mexico]</td>\n",
       "      <td>TV-MA</td>\n",
       "      <td>93 min</td>\n",
       "      <td>[dramas, internationalmovies]</td>\n",
       "      <td>[devastating, earthquake, hits, mexico, city, ...</td>\n",
       "    </tr>\n",
       "    <tr>\n",
       "      <th>2</th>\n",
       "      <td>s3</td>\n",
       "      <td>Movie</td>\n",
       "      <td>23:59</td>\n",
       "      <td>[gilbertchan]</td>\n",
       "      <td>[teddchan, stellachung, henleyhii, lawrencekoh...</td>\n",
       "      <td>[singapore]</td>\n",
       "      <td>R</td>\n",
       "      <td>78 min</td>\n",
       "      <td>[horrormovies, internationalmovies]</td>\n",
       "      <td>[army, recruit, found, dead, fellow, soldiers,...</td>\n",
       "    </tr>\n",
       "    <tr>\n",
       "      <th>3</th>\n",
       "      <td>s4</td>\n",
       "      <td>Movie</td>\n",
       "      <td>9</td>\n",
       "      <td>[shaneacker]</td>\n",
       "      <td>[elijahwood, johnc.reilly, jenniferconnelly, c...</td>\n",
       "      <td>[unitedstates]</td>\n",
       "      <td>PG-13</td>\n",
       "      <td>80 min</td>\n",
       "      <td>[action&amp;adventure, independentmovies, sci-fi&amp;f...</td>\n",
       "      <td>[postapocalyptic, world, ragdoll, robots, hide...</td>\n",
       "    </tr>\n",
       "    <tr>\n",
       "      <th>4</th>\n",
       "      <td>s5</td>\n",
       "      <td>Movie</td>\n",
       "      <td>21</td>\n",
       "      <td>[robertluketic]</td>\n",
       "      <td>[jimsturgess, kevinspacey, katebosworth, aaron...</td>\n",
       "      <td>[unitedstates]</td>\n",
       "      <td>PG-13</td>\n",
       "      <td>123 min</td>\n",
       "      <td>[dramas]</td>\n",
       "      <td>[brilliant, group, students, become, cardcount...</td>\n",
       "    </tr>\n",
       "  </tbody>\n",
       "</table>\n",
       "</div>"
      ],
      "text/plain": [
       "  show_id     type  title           director  \\\n",
       "0      s1  TV Show     3%          [unknown]   \n",
       "1      s2    Movie   7:19  [jorgemichelgrau]   \n",
       "2      s3    Movie  23:59      [gilbertchan]   \n",
       "3      s4    Movie      9       [shaneacker]   \n",
       "4      s5    Movie     21    [robertluketic]   \n",
       "\n",
       "                                                cast         country rating  \\\n",
       "0  [joãomiguel, biancacomparato, michelgomes, rod...        [brazil]  TV-MA   \n",
       "1  [demiánbichir, héctorbonilla, oscarserrano, az...        [mexico]  TV-MA   \n",
       "2  [teddchan, stellachung, henleyhii, lawrencekoh...     [singapore]      R   \n",
       "3  [elijahwood, johnc.reilly, jenniferconnelly, c...  [unitedstates]  PG-13   \n",
       "4  [jimsturgess, kevinspacey, katebosworth, aaron...  [unitedstates]  PG-13   \n",
       "\n",
       "    duration                                          listed_in  \\\n",
       "0  4 Seasons  [internationaltvshows, tvdramas, tvsci-fi&fant...   \n",
       "1     93 min                      [dramas, internationalmovies]   \n",
       "2     78 min                [horrormovies, internationalmovies]   \n",
       "3     80 min  [action&adventure, independentmovies, sci-fi&f...   \n",
       "4    123 min                                           [dramas]   \n",
       "\n",
       "                                         description  \n",
       "0  [future, elite, inhabit, island, paradise, far...  \n",
       "1  [devastating, earthquake, hits, mexico, city, ...  \n",
       "2  [army, recruit, found, dead, fellow, soldiers,...  \n",
       "3  [postapocalyptic, world, ragdoll, robots, hide...  \n",
       "4  [brilliant, group, students, become, cardcount...  "
      ]
     },
     "execution_count": 19,
     "metadata": {},
     "output_type": "execute_result"
    }
   ],
   "source": [
    "df.head()"
   ]
  },
  {
   "cell_type": "code",
   "execution_count": 20,
   "id": "1158cd00-7838-4535-87aa-b56318985589",
   "metadata": {},
   "outputs": [],
   "source": [
    "df['tags'] = df['description'] + df['listed_in'] + df['cast'] + df['director'] + df['country']"
   ]
  },
  {
   "cell_type": "code",
   "execution_count": 21,
   "id": "2c63e77c-9f23-4592-aa8a-0c1d4b0213c8",
   "metadata": {},
   "outputs": [],
   "source": [
    "new_db = df[['show_id','title','tags']]"
   ]
  },
  {
   "cell_type": "code",
   "execution_count": 22,
   "id": "e719b721-a456-42b4-a38b-1ade7bc2cb5e",
   "metadata": {},
   "outputs": [
    {
     "data": {
      "text/html": [
       "<div>\n",
       "<style scoped>\n",
       "    .dataframe tbody tr th:only-of-type {\n",
       "        vertical-align: middle;\n",
       "    }\n",
       "\n",
       "    .dataframe tbody tr th {\n",
       "        vertical-align: top;\n",
       "    }\n",
       "\n",
       "    .dataframe thead th {\n",
       "        text-align: right;\n",
       "    }\n",
       "</style>\n",
       "<table border=\"1\" class=\"dataframe\">\n",
       "  <thead>\n",
       "    <tr style=\"text-align: right;\">\n",
       "      <th></th>\n",
       "      <th>show_id</th>\n",
       "      <th>title</th>\n",
       "      <th>tags</th>\n",
       "    </tr>\n",
       "  </thead>\n",
       "  <tbody>\n",
       "    <tr>\n",
       "      <th>0</th>\n",
       "      <td>s1</td>\n",
       "      <td>3%</td>\n",
       "      <td>[future, elite, inhabit, island, paradise, far...</td>\n",
       "    </tr>\n",
       "    <tr>\n",
       "      <th>1</th>\n",
       "      <td>s2</td>\n",
       "      <td>7:19</td>\n",
       "      <td>[devastating, earthquake, hits, mexico, city, ...</td>\n",
       "    </tr>\n",
       "    <tr>\n",
       "      <th>2</th>\n",
       "      <td>s3</td>\n",
       "      <td>23:59</td>\n",
       "      <td>[army, recruit, found, dead, fellow, soldiers,...</td>\n",
       "    </tr>\n",
       "    <tr>\n",
       "      <th>3</th>\n",
       "      <td>s4</td>\n",
       "      <td>9</td>\n",
       "      <td>[postapocalyptic, world, ragdoll, robots, hide...</td>\n",
       "    </tr>\n",
       "    <tr>\n",
       "      <th>4</th>\n",
       "      <td>s5</td>\n",
       "      <td>21</td>\n",
       "      <td>[brilliant, group, students, become, cardcount...</td>\n",
       "    </tr>\n",
       "  </tbody>\n",
       "</table>\n",
       "</div>"
      ],
      "text/plain": [
       "  show_id  title                                               tags\n",
       "0      s1     3%  [future, elite, inhabit, island, paradise, far...\n",
       "1      s2   7:19  [devastating, earthquake, hits, mexico, city, ...\n",
       "2      s3  23:59  [army, recruit, found, dead, fellow, soldiers,...\n",
       "3      s4      9  [postapocalyptic, world, ragdoll, robots, hide...\n",
       "4      s5     21  [brilliant, group, students, become, cardcount..."
      ]
     },
     "execution_count": 22,
     "metadata": {},
     "output_type": "execute_result"
    }
   ],
   "source": [
    "new_db.head()"
   ]
  },
  {
   "cell_type": "markdown",
   "id": "7c419709-6b9e-493b-92d8-76ec2a4950bd",
   "metadata": {},
   "source": [
    "#### Stemming the tags attribute"
   ]
  },
  {
   "cell_type": "code",
   "execution_count": 23,
   "id": "ce7d56df-a234-4422-ab11-e90f50de701f",
   "metadata": {},
   "outputs": [],
   "source": [
    "from nltk.stem.porter import PorterStemmer\n",
    "pstem = PorterStemmer()"
   ]
  },
  {
   "cell_type": "code",
   "execution_count": 24,
   "id": "e18f22d1-5a0b-468c-a977-af219dbf44bd",
   "metadata": {},
   "outputs": [],
   "source": [
    "def stemmwds(txt):\n",
    "    temp = []\n",
    "    for i in txt.split():\n",
    "        temp.append(pstem.stem(i))\n",
    "    return \" \".join(temp)"
   ]
  },
  {
   "cell_type": "code",
   "execution_count": 25,
   "id": "e74fb7ea-e8c1-4852-85be-c714b898a62c",
   "metadata": {},
   "outputs": [
    {
     "name": "stderr",
     "output_type": "stream",
     "text": [
      "<ipython-input-25-537e04a1e9bd>:1: SettingWithCopyWarning: \n",
      "A value is trying to be set on a copy of a slice from a DataFrame.\n",
      "Try using .loc[row_indexer,col_indexer] = value instead\n",
      "\n",
      "See the caveats in the documentation: https://pandas.pydata.org/pandas-docs/stable/user_guide/indexing.html#returning-a-view-versus-a-copy\n",
      "  new_db['tags'] = new_db['tags'].apply(lambda x:\" \".join(x))\n"
     ]
    }
   ],
   "source": [
    "new_db['tags'] = new_db['tags'].apply(lambda x:\" \".join(x))"
   ]
  },
  {
   "cell_type": "code",
   "execution_count": 26,
   "id": "0f5645a6-cbb2-4dcc-8dbb-1174db453485",
   "metadata": {},
   "outputs": [
    {
     "name": "stderr",
     "output_type": "stream",
     "text": [
      "<ipython-input-26-bcb59300cd35>:1: SettingWithCopyWarning: \n",
      "A value is trying to be set on a copy of a slice from a DataFrame.\n",
      "Try using .loc[row_indexer,col_indexer] = value instead\n",
      "\n",
      "See the caveats in the documentation: https://pandas.pydata.org/pandas-docs/stable/user_guide/indexing.html#returning-a-view-versus-a-copy\n",
      "  new_db['tags'] = new_db['tags'].apply(stemmwds)\n"
     ]
    }
   ],
   "source": [
    "new_db['tags'] = new_db['tags'].apply(stemmwds)"
   ]
  },
  {
   "cell_type": "code",
   "execution_count": 27,
   "id": "7cf34dce-5a7f-447a-a963-192abc278a02",
   "metadata": {},
   "outputs": [
    {
     "data": {
      "text/html": [
       "<div>\n",
       "<style scoped>\n",
       "    .dataframe tbody tr th:only-of-type {\n",
       "        vertical-align: middle;\n",
       "    }\n",
       "\n",
       "    .dataframe tbody tr th {\n",
       "        vertical-align: top;\n",
       "    }\n",
       "\n",
       "    .dataframe thead th {\n",
       "        text-align: right;\n",
       "    }\n",
       "</style>\n",
       "<table border=\"1\" class=\"dataframe\">\n",
       "  <thead>\n",
       "    <tr style=\"text-align: right;\">\n",
       "      <th></th>\n",
       "      <th>show_id</th>\n",
       "      <th>title</th>\n",
       "      <th>tags</th>\n",
       "    </tr>\n",
       "  </thead>\n",
       "  <tbody>\n",
       "    <tr>\n",
       "      <th>0</th>\n",
       "      <td>s1</td>\n",
       "      <td>3%</td>\n",
       "      <td>futur elit inhabit island paradis far crowd sl...</td>\n",
       "    </tr>\n",
       "    <tr>\n",
       "      <th>1</th>\n",
       "      <td>s2</td>\n",
       "      <td>7:19</td>\n",
       "      <td>devast earthquak hit mexico citi trap survivor...</td>\n",
       "    </tr>\n",
       "    <tr>\n",
       "      <th>2</th>\n",
       "      <td>s3</td>\n",
       "      <td>23:59</td>\n",
       "      <td>armi recruit found dead fellow soldier forc co...</td>\n",
       "    </tr>\n",
       "    <tr>\n",
       "      <th>3</th>\n",
       "      <td>s4</td>\n",
       "      <td>9</td>\n",
       "      <td>postapocalypt world ragdol robot hide fear dan...</td>\n",
       "    </tr>\n",
       "    <tr>\n",
       "      <th>4</th>\n",
       "      <td>s5</td>\n",
       "      <td>21</td>\n",
       "      <td>brilliant group student becom cardcount expert...</td>\n",
       "    </tr>\n",
       "  </tbody>\n",
       "</table>\n",
       "</div>"
      ],
      "text/plain": [
       "  show_id  title                                               tags\n",
       "0      s1     3%  futur elit inhabit island paradis far crowd sl...\n",
       "1      s2   7:19  devast earthquak hit mexico citi trap survivor...\n",
       "2      s3  23:59  armi recruit found dead fellow soldier forc co...\n",
       "3      s4      9  postapocalypt world ragdol robot hide fear dan...\n",
       "4      s5     21  brilliant group student becom cardcount expert..."
      ]
     },
     "execution_count": 27,
     "metadata": {},
     "output_type": "execute_result"
    }
   ],
   "source": [
    "new_db.head()"
   ]
  },
  {
   "cell_type": "markdown",
   "id": "d624b9c5-0d31-4131-8790-ddf3561bbf4f",
   "metadata": {},
   "source": [
    "#### Getting imdb ids for each title"
   ]
  },
  {
   "cell_type": "code",
   "execution_count": 29,
   "id": "b276ff52-0ba5-49d4-bff3-a9bfa56de54f",
   "metadata": {},
   "outputs": [],
   "source": [
    "#def get_title_imdb_id(name):\n",
    "    #NaN = float(\"NaN\")\n",
    "    #ia = imdb.IMDb()\n",
    "    #search = ia.search_movie(name)\n",
    "    #if search == []:\n",
    "         #return NaN\n",
    "    #else:\n",
    "        #id = search[0].movieID\n",
    "        #return id"
   ]
  },
  {
   "cell_type": "code",
   "execution_count": 30,
   "id": "4e9c684e-9a88-42e6-9d90-507d3912b5c1",
   "metadata": {},
   "outputs": [],
   "source": [
    "#new_db['imdb_id'] = new_db['title'].apply(lambda x: get_title_imdb_id(x))"
   ]
  },
  {
   "cell_type": "markdown",
   "id": "f6fe89e9-5f8f-4ad0-b097-f7327d453ea8",
   "metadata": {},
   "source": [
    "#### Above process takes considerable amount of time,since dataset size is large."
   ]
  },
  {
   "cell_type": "code",
   "execution_count": 32,
   "id": "79343e7b-2c64-49fd-bb51-7e60d52d0e8c",
   "metadata": {},
   "outputs": [
    {
     "data": {
      "text/html": [
       "<div>\n",
       "<style scoped>\n",
       "    .dataframe tbody tr th:only-of-type {\n",
       "        vertical-align: middle;\n",
       "    }\n",
       "\n",
       "    .dataframe tbody tr th {\n",
       "        vertical-align: top;\n",
       "    }\n",
       "\n",
       "    .dataframe thead th {\n",
       "        text-align: right;\n",
       "    }\n",
       "</style>\n",
       "<table border=\"1\" class=\"dataframe\">\n",
       "  <thead>\n",
       "    <tr style=\"text-align: right;\">\n",
       "      <th></th>\n",
       "      <th>show_id</th>\n",
       "      <th>title</th>\n",
       "      <th>tags</th>\n",
       "      <th>imdb_id</th>\n",
       "    </tr>\n",
       "  </thead>\n",
       "  <tbody>\n",
       "    <tr>\n",
       "      <th>0</th>\n",
       "      <td>s1</td>\n",
       "      <td>3%</td>\n",
       "      <td>futur elit inhabit island paradis far crowd sl...</td>\n",
       "      <td>4922804.0</td>\n",
       "    </tr>\n",
       "    <tr>\n",
       "      <th>1</th>\n",
       "      <td>s2</td>\n",
       "      <td>7:19</td>\n",
       "      <td>devast earthquak hit mexico citi trap survivor...</td>\n",
       "      <td>5979312.0</td>\n",
       "    </tr>\n",
       "    <tr>\n",
       "      <th>2</th>\n",
       "      <td>s3</td>\n",
       "      <td>23:59</td>\n",
       "      <td>armi recruit found dead fellow soldier forc co...</td>\n",
       "      <td>2100376.0</td>\n",
       "    </tr>\n",
       "    <tr>\n",
       "      <th>3</th>\n",
       "      <td>s4</td>\n",
       "      <td>9</td>\n",
       "      <td>postapocalypt world ragdol robot hide fear dan...</td>\n",
       "      <td>472033.0</td>\n",
       "    </tr>\n",
       "    <tr>\n",
       "      <th>4</th>\n",
       "      <td>s5</td>\n",
       "      <td>21</td>\n",
       "      <td>brilliant group student becom cardcount expert...</td>\n",
       "      <td>478087.0</td>\n",
       "    </tr>\n",
       "    <tr>\n",
       "      <th>...</th>\n",
       "      <td>...</td>\n",
       "      <td>...</td>\n",
       "      <td>...</td>\n",
       "      <td>...</td>\n",
       "    </tr>\n",
       "    <tr>\n",
       "      <th>7782</th>\n",
       "      <td>s7783</td>\n",
       "      <td>Zozo</td>\n",
       "      <td>lebanon civil war depriv zozo famili he left g...</td>\n",
       "      <td>448267.0</td>\n",
       "    </tr>\n",
       "    <tr>\n",
       "      <th>7783</th>\n",
       "      <td>s7784</td>\n",
       "      <td>Zubaan</td>\n",
       "      <td>scrappi poor boy worm way tycoon dysfunct fami...</td>\n",
       "      <td>3776484.0</td>\n",
       "    </tr>\n",
       "    <tr>\n",
       "      <th>7784</th>\n",
       "      <td>s7785</td>\n",
       "      <td>Zulu Man in Japan</td>\n",
       "      <td>documentari south african rapper nasti c hit s...</td>\n",
       "      <td>15075334.0</td>\n",
       "    </tr>\n",
       "    <tr>\n",
       "      <th>7785</th>\n",
       "      <td>s7786</td>\n",
       "      <td>Zumbo's Just Desserts</td>\n",
       "      <td>dessert wizard adriano zumbo look next “ willi...</td>\n",
       "      <td>7239256.0</td>\n",
       "    </tr>\n",
       "    <tr>\n",
       "      <th>7786</th>\n",
       "      <td>s7787</td>\n",
       "      <td>ZZ TOP: THAT LITTLE OL' BAND FROM TEXAS</td>\n",
       "      <td>documentari delv mystiqu behind bluesrock trio...</td>\n",
       "      <td>9015306.0</td>\n",
       "    </tr>\n",
       "  </tbody>\n",
       "</table>\n",
       "<p>7787 rows × 4 columns</p>\n",
       "</div>"
      ],
      "text/plain": [
       "     show_id                                    title  \\\n",
       "0         s1                                       3%   \n",
       "1         s2                                     7:19   \n",
       "2         s3                                    23:59   \n",
       "3         s4                                        9   \n",
       "4         s5                                       21   \n",
       "...      ...                                      ...   \n",
       "7782   s7783                                     Zozo   \n",
       "7783   s7784                                   Zubaan   \n",
       "7784   s7785                        Zulu Man in Japan   \n",
       "7785   s7786                    Zumbo's Just Desserts   \n",
       "7786   s7787  ZZ TOP: THAT LITTLE OL' BAND FROM TEXAS   \n",
       "\n",
       "                                                   tags     imdb_id  \n",
       "0     futur elit inhabit island paradis far crowd sl...   4922804.0  \n",
       "1     devast earthquak hit mexico citi trap survivor...   5979312.0  \n",
       "2     armi recruit found dead fellow soldier forc co...   2100376.0  \n",
       "3     postapocalypt world ragdol robot hide fear dan...    472033.0  \n",
       "4     brilliant group student becom cardcount expert...    478087.0  \n",
       "...                                                 ...         ...  \n",
       "7782  lebanon civil war depriv zozo famili he left g...    448267.0  \n",
       "7783  scrappi poor boy worm way tycoon dysfunct fami...   3776484.0  \n",
       "7784  documentari south african rapper nasti c hit s...  15075334.0  \n",
       "7785  dessert wizard adriano zumbo look next “ willi...   7239256.0  \n",
       "7786  documentari delv mystiqu behind bluesrock trio...   9015306.0  \n",
       "\n",
       "[7787 rows x 4 columns]"
      ]
     },
     "execution_count": 32,
     "metadata": {},
     "output_type": "execute_result"
    }
   ],
   "source": [
    "new_db"
   ]
  },
  {
   "cell_type": "code",
   "execution_count": 33,
   "id": "670bc67e-059b-43c6-8167-ab6ae03c0b3f",
   "metadata": {},
   "outputs": [
    {
     "data": {
      "text/plain": [
       "168"
      ]
     },
     "execution_count": 33,
     "metadata": {},
     "output_type": "execute_result"
    }
   ],
   "source": [
    "new_db['imdb_id'].isnull().sum()"
   ]
  },
  {
   "cell_type": "code",
   "execution_count": 34,
   "id": "13b7dee3-6b63-4ca8-a5d9-5ed43af66306",
   "metadata": {},
   "outputs": [
    {
     "data": {
      "text/plain": [
       "(7787, 4)"
      ]
     },
     "execution_count": 34,
     "metadata": {},
     "output_type": "execute_result"
    }
   ],
   "source": [
    "new_db.shape"
   ]
  },
  {
   "cell_type": "code",
   "execution_count": 35,
   "id": "40965b90-387f-42bc-8894-b2b61a1f7371",
   "metadata": {},
   "outputs": [],
   "source": [
    "new_db = new_db.dropna()"
   ]
  },
  {
   "cell_type": "code",
   "execution_count": 36,
   "id": "d94e6b69-ba00-4706-a69e-a52abf6391de",
   "metadata": {},
   "outputs": [
    {
     "data": {
      "text/plain": [
       "(7619, 4)"
      ]
     },
     "execution_count": 36,
     "metadata": {},
     "output_type": "execute_result"
    }
   ],
   "source": [
    "new_db.shape"
   ]
  },
  {
   "cell_type": "code",
   "execution_count": 37,
   "id": "f5762024-b373-4e2c-9438-09d0fde59fca",
   "metadata": {},
   "outputs": [
    {
     "name": "stderr",
     "output_type": "stream",
     "text": [
      "<ipython-input-37-4e87f874bdd6>:1: SettingWithCopyWarning: \n",
      "A value is trying to be set on a copy of a slice from a DataFrame.\n",
      "Try using .loc[row_indexer,col_indexer] = value instead\n",
      "\n",
      "See the caveats in the documentation: https://pandas.pydata.org/pandas-docs/stable/user_guide/indexing.html#returning-a-view-versus-a-copy\n",
      "  new_db['imdb_id'] = new_db['imdb_id'].astype(np.int64)\n"
     ]
    }
   ],
   "source": [
    "new_db['imdb_id'] = new_db['imdb_id'].astype(np.int64)"
   ]
  },
  {
   "cell_type": "code",
   "execution_count": 38,
   "id": "01cfbaa8-4200-4d94-bac7-af5231ba6d70",
   "metadata": {},
   "outputs": [
    {
     "data": {
      "text/html": [
       "<div>\n",
       "<style scoped>\n",
       "    .dataframe tbody tr th:only-of-type {\n",
       "        vertical-align: middle;\n",
       "    }\n",
       "\n",
       "    .dataframe tbody tr th {\n",
       "        vertical-align: top;\n",
       "    }\n",
       "\n",
       "    .dataframe thead th {\n",
       "        text-align: right;\n",
       "    }\n",
       "</style>\n",
       "<table border=\"1\" class=\"dataframe\">\n",
       "  <thead>\n",
       "    <tr style=\"text-align: right;\">\n",
       "      <th></th>\n",
       "      <th>show_id</th>\n",
       "      <th>title</th>\n",
       "      <th>tags</th>\n",
       "      <th>imdb_id</th>\n",
       "    </tr>\n",
       "  </thead>\n",
       "  <tbody>\n",
       "    <tr>\n",
       "      <th>0</th>\n",
       "      <td>s1</td>\n",
       "      <td>3%</td>\n",
       "      <td>futur elit inhabit island paradis far crowd sl...</td>\n",
       "      <td>4922804</td>\n",
       "    </tr>\n",
       "    <tr>\n",
       "      <th>1</th>\n",
       "      <td>s2</td>\n",
       "      <td>7:19</td>\n",
       "      <td>devast earthquak hit mexico citi trap survivor...</td>\n",
       "      <td>5979312</td>\n",
       "    </tr>\n",
       "    <tr>\n",
       "      <th>2</th>\n",
       "      <td>s3</td>\n",
       "      <td>23:59</td>\n",
       "      <td>armi recruit found dead fellow soldier forc co...</td>\n",
       "      <td>2100376</td>\n",
       "    </tr>\n",
       "    <tr>\n",
       "      <th>3</th>\n",
       "      <td>s4</td>\n",
       "      <td>9</td>\n",
       "      <td>postapocalypt world ragdol robot hide fear dan...</td>\n",
       "      <td>472033</td>\n",
       "    </tr>\n",
       "    <tr>\n",
       "      <th>4</th>\n",
       "      <td>s5</td>\n",
       "      <td>21</td>\n",
       "      <td>brilliant group student becom cardcount expert...</td>\n",
       "      <td>478087</td>\n",
       "    </tr>\n",
       "  </tbody>\n",
       "</table>\n",
       "</div>"
      ],
      "text/plain": [
       "  show_id  title                                               tags  imdb_id\n",
       "0      s1     3%  futur elit inhabit island paradis far crowd sl...  4922804\n",
       "1      s2   7:19  devast earthquak hit mexico citi trap survivor...  5979312\n",
       "2      s3  23:59  armi recruit found dead fellow soldier forc co...  2100376\n",
       "3      s4      9  postapocalypt world ragdol robot hide fear dan...   472033\n",
       "4      s5     21  brilliant group student becom cardcount expert...   478087"
      ]
     },
     "execution_count": 38,
     "metadata": {},
     "output_type": "execute_result"
    }
   ],
   "source": [
    "new_db.head()"
   ]
  },
  {
   "cell_type": "markdown",
   "id": "7b62e901-61f8-4e29-b3dd-2a382a8756bc",
   "metadata": {},
   "source": [
    "#### Next step is to take top 3 actors from the \"cast\" attribute and 1 main director from the \"Director\" attribute"
   ]
  },
  {
   "cell_type": "code",
   "execution_count": 39,
   "id": "cb8bc537-62e0-4390-b39a-df2cb9d9a582",
   "metadata": {},
   "outputs": [],
   "source": [
    "def splitnow(temp):\n",
    "    lst = temp.split(\", \")\n",
    "    return lst"
   ]
  },
  {
   "cell_type": "code",
   "execution_count": 40,
   "id": "27668a0e-1eae-4374-a891-6aba65de5a05",
   "metadata": {},
   "outputs": [],
   "source": [
    "tempdf = pd.read_csv('netflix_titles.csv')"
   ]
  },
  {
   "cell_type": "code",
   "execution_count": 41,
   "id": "7e2ece7b-7494-455d-ae29-5d2adb118ec3",
   "metadata": {},
   "outputs": [],
   "source": [
    "tempdf = tempdf.replace(np.nan,'Unknown', regex=True)"
   ]
  },
  {
   "cell_type": "code",
   "execution_count": 42,
   "id": "97d08cc8-263a-4b31-ba67-09a19a147655",
   "metadata": {},
   "outputs": [],
   "source": [
    "tempdf['cast_split'] = tempdf['cast'].apply(lambda x: splitnow(x))"
   ]
  },
  {
   "cell_type": "code",
   "execution_count": 43,
   "id": "2c4891ba-118d-4e6e-bf70-1950c1e15cbf",
   "metadata": {},
   "outputs": [
    {
     "data": {
      "text/plain": [
       "0       [João Miguel, Bianca Comparato, Michel Gomes, ...\n",
       "1       [Demián Bichir, Héctor Bonilla, Oscar Serrano,...\n",
       "2       [Tedd Chan, Stella Chung, Henley Hii, Lawrence...\n",
       "3       [Elijah Wood, John C. Reilly, Jennifer Connell...\n",
       "4       [Jim Sturgess, Kevin Spacey, Kate Bosworth, Aa...\n",
       "                              ...                        \n",
       "7782    [Imad Creidi, Antoinette Turk, Elias Gergi, Ca...\n",
       "7783    [Vicky Kaushal, Sarah-Jane Dias, Raaghav Chana...\n",
       "7784                                            [Nasty C]\n",
       "7785                         [Adriano Zumbo, Rachel Khoo]\n",
       "7786                                            [Unknown]\n",
       "Name: cast_split, Length: 7787, dtype: object"
      ]
     },
     "execution_count": 43,
     "metadata": {},
     "output_type": "execute_result"
    }
   ],
   "source": [
    "tempdf['cast_split']"
   ]
  },
  {
   "cell_type": "code",
   "execution_count": 44,
   "id": "cdda0468-136a-4d2f-8481-6bdd31b3c067",
   "metadata": {},
   "outputs": [],
   "source": [
    "def topthree(lst):\n",
    "    sample = []\n",
    "    temp = len(lst)  \n",
    "    if temp >= 3:\n",
    "        sample.extend(lst[0].split(\",\"))\n",
    "        sample.extend(lst[1].split(\",\"))\n",
    "        sample.extend(lst[2].split(\",\"))\n",
    "    else:\n",
    "        sample.extend(lst)\n",
    "\n",
    "    return sample"
   ]
  },
  {
   "cell_type": "code",
   "execution_count": 45,
   "id": "23b67824-aeda-468d-aa06-8b00e5eeaf0d",
   "metadata": {},
   "outputs": [],
   "source": [
    "tempdf[\"top_cast\"] = tempdf[\"cast_split\"].apply(lambda x: topthree(x))"
   ]
  },
  {
   "cell_type": "code",
   "execution_count": 46,
   "id": "91655b33-0fbc-410b-b387-d41ab8144c14",
   "metadata": {},
   "outputs": [
    {
     "data": {
      "text/plain": [
       "0           [João Miguel, Bianca Comparato, Michel Gomes]\n",
       "1          [Demián Bichir, Héctor Bonilla, Oscar Serrano]\n",
       "2                   [Tedd Chan, Stella Chung, Henley Hii]\n",
       "3        [Elijah Wood, John C. Reilly, Jennifer Connelly]\n",
       "4             [Jim Sturgess, Kevin Spacey, Kate Bosworth]\n",
       "                              ...                        \n",
       "7782          [Imad Creidi, Antoinette Turk, Elias Gergi]\n",
       "7783    [Vicky Kaushal, Sarah-Jane Dias, Raaghav Chanana]\n",
       "7784                                            [Nasty C]\n",
       "7785                         [Adriano Zumbo, Rachel Khoo]\n",
       "7786                                            [Unknown]\n",
       "Name: top_cast, Length: 7787, dtype: object"
      ]
     },
     "execution_count": 46,
     "metadata": {},
     "output_type": "execute_result"
    }
   ],
   "source": [
    "tempdf['top_cast']"
   ]
  },
  {
   "cell_type": "code",
   "execution_count": 47,
   "id": "c9e22d31-a514-404b-924a-b9777afac06a",
   "metadata": {},
   "outputs": [],
   "source": [
    "tempdf[[\"actor1\",\"actor2\",\"actor3\"]] = pd.DataFrame(tempdf.top_cast.to_list(),index = tempdf.index)"
   ]
  },
  {
   "cell_type": "code",
   "execution_count": 48,
   "id": "9a315c73-52e3-4a1e-8b13-b5c5a5f47542",
   "metadata": {},
   "outputs": [
    {
     "data": {
      "text/html": [
       "<div>\n",
       "<style scoped>\n",
       "    .dataframe tbody tr th:only-of-type {\n",
       "        vertical-align: middle;\n",
       "    }\n",
       "\n",
       "    .dataframe tbody tr th {\n",
       "        vertical-align: top;\n",
       "    }\n",
       "\n",
       "    .dataframe thead th {\n",
       "        text-align: right;\n",
       "    }\n",
       "</style>\n",
       "<table border=\"1\" class=\"dataframe\">\n",
       "  <thead>\n",
       "    <tr style=\"text-align: right;\">\n",
       "      <th></th>\n",
       "      <th>actor1</th>\n",
       "      <th>actor2</th>\n",
       "      <th>actor3</th>\n",
       "    </tr>\n",
       "  </thead>\n",
       "  <tbody>\n",
       "    <tr>\n",
       "      <th>0</th>\n",
       "      <td>João Miguel</td>\n",
       "      <td>Bianca Comparato</td>\n",
       "      <td>Michel Gomes</td>\n",
       "    </tr>\n",
       "    <tr>\n",
       "      <th>1</th>\n",
       "      <td>Demián Bichir</td>\n",
       "      <td>Héctor Bonilla</td>\n",
       "      <td>Oscar Serrano</td>\n",
       "    </tr>\n",
       "    <tr>\n",
       "      <th>2</th>\n",
       "      <td>Tedd Chan</td>\n",
       "      <td>Stella Chung</td>\n",
       "      <td>Henley Hii</td>\n",
       "    </tr>\n",
       "    <tr>\n",
       "      <th>3</th>\n",
       "      <td>Elijah Wood</td>\n",
       "      <td>John C. Reilly</td>\n",
       "      <td>Jennifer Connelly</td>\n",
       "    </tr>\n",
       "    <tr>\n",
       "      <th>4</th>\n",
       "      <td>Jim Sturgess</td>\n",
       "      <td>Kevin Spacey</td>\n",
       "      <td>Kate Bosworth</td>\n",
       "    </tr>\n",
       "    <tr>\n",
       "      <th>...</th>\n",
       "      <td>...</td>\n",
       "      <td>...</td>\n",
       "      <td>...</td>\n",
       "    </tr>\n",
       "    <tr>\n",
       "      <th>7782</th>\n",
       "      <td>Imad Creidi</td>\n",
       "      <td>Antoinette Turk</td>\n",
       "      <td>Elias Gergi</td>\n",
       "    </tr>\n",
       "    <tr>\n",
       "      <th>7783</th>\n",
       "      <td>Vicky Kaushal</td>\n",
       "      <td>Sarah-Jane Dias</td>\n",
       "      <td>Raaghav Chanana</td>\n",
       "    </tr>\n",
       "    <tr>\n",
       "      <th>7784</th>\n",
       "      <td>Nasty C</td>\n",
       "      <td>None</td>\n",
       "      <td>None</td>\n",
       "    </tr>\n",
       "    <tr>\n",
       "      <th>7785</th>\n",
       "      <td>Adriano Zumbo</td>\n",
       "      <td>Rachel Khoo</td>\n",
       "      <td>None</td>\n",
       "    </tr>\n",
       "    <tr>\n",
       "      <th>7786</th>\n",
       "      <td>Unknown</td>\n",
       "      <td>None</td>\n",
       "      <td>None</td>\n",
       "    </tr>\n",
       "  </tbody>\n",
       "</table>\n",
       "<p>7787 rows × 3 columns</p>\n",
       "</div>"
      ],
      "text/plain": [
       "             actor1            actor2             actor3\n",
       "0       João Miguel  Bianca Comparato       Michel Gomes\n",
       "1     Demián Bichir    Héctor Bonilla      Oscar Serrano\n",
       "2         Tedd Chan      Stella Chung         Henley Hii\n",
       "3       Elijah Wood    John C. Reilly  Jennifer Connelly\n",
       "4      Jim Sturgess      Kevin Spacey      Kate Bosworth\n",
       "...             ...               ...                ...\n",
       "7782    Imad Creidi   Antoinette Turk        Elias Gergi\n",
       "7783  Vicky Kaushal   Sarah-Jane Dias    Raaghav Chanana\n",
       "7784        Nasty C              None               None\n",
       "7785  Adriano Zumbo       Rachel Khoo               None\n",
       "7786        Unknown              None               None\n",
       "\n",
       "[7787 rows x 3 columns]"
      ]
     },
     "execution_count": 48,
     "metadata": {},
     "output_type": "execute_result"
    }
   ],
   "source": [
    "tempdf[[\"actor1\",\"actor2\",\"actor3\"]]"
   ]
  },
  {
   "cell_type": "code",
   "execution_count": 49,
   "id": "842d2c40-6d18-484a-b2bd-22787ce90e64",
   "metadata": {},
   "outputs": [
    {
     "data": {
      "text/plain": [
       "0"
      ]
     },
     "execution_count": 49,
     "metadata": {},
     "output_type": "execute_result"
    }
   ],
   "source": [
    "tempdf[\"actor1\"].isnull().sum()"
   ]
  },
  {
   "cell_type": "code",
   "execution_count": 50,
   "id": "8a8fde13-f9da-465d-9cd0-fb7e3a5f660c",
   "metadata": {},
   "outputs": [
    {
     "data": {
      "text/plain": [
       "1546"
      ]
     },
     "execution_count": 50,
     "metadata": {},
     "output_type": "execute_result"
    }
   ],
   "source": [
    "tempdf[\"actor2\"].isnull().sum()"
   ]
  },
  {
   "cell_type": "code",
   "execution_count": 51,
   "id": "5e0f7869-e3b3-4ddd-bfd5-ccc60450ac80",
   "metadata": {},
   "outputs": [
    {
     "data": {
      "text/plain": [
       "1731"
      ]
     },
     "execution_count": 51,
     "metadata": {},
     "output_type": "execute_result"
    }
   ],
   "source": [
    "tempdf[\"actor3\"].isnull().sum()"
   ]
  },
  {
   "cell_type": "code",
   "execution_count": 52,
   "id": "bd96d483-077a-4b5e-8e67-a8d132db4f6a",
   "metadata": {},
   "outputs": [],
   "source": [
    "tempdf['actor2'] = tempdf['actor2'].replace(np.nan,'Unknown', regex=True)"
   ]
  },
  {
   "cell_type": "code",
   "execution_count": 53,
   "id": "a10a59e8-0b85-46a8-95a9-0c98733f302e",
   "metadata": {},
   "outputs": [],
   "source": [
    "tempdf['actor3'] = tempdf['actor3'].replace(np.nan,'Unknown', regex=True)"
   ]
  },
  {
   "cell_type": "code",
   "execution_count": 54,
   "id": "ddeb9342-ddcf-4cea-926e-9a30219cec29",
   "metadata": {},
   "outputs": [],
   "source": [
    "tempdf['dir_split'] = tempdf['director'].apply(lambda x: splitnow(x))"
   ]
  },
  {
   "cell_type": "code",
   "execution_count": 55,
   "id": "3ff624ee-ee9f-44f0-8698-dae223cc3860",
   "metadata": {},
   "outputs": [],
   "source": [
    "def get_dir(lst):\n",
    "    sample = lst[0]\n",
    "    return sample"
   ]
  },
  {
   "cell_type": "code",
   "execution_count": 56,
   "id": "48344a2a-606c-44dc-ae52-76febc7d153c",
   "metadata": {},
   "outputs": [],
   "source": [
    "tempdf['Main_director'] = tempdf['dir_split'].apply(lambda x: get_dir(x))"
   ]
  },
  {
   "cell_type": "code",
   "execution_count": 57,
   "id": "d1748b4a-d230-4061-8832-ee75f62ac6c3",
   "metadata": {},
   "outputs": [
    {
     "name": "stderr",
     "output_type": "stream",
     "text": [
      "<ipython-input-57-92b9a4de01ba>:1: SettingWithCopyWarning: \n",
      "A value is trying to be set on a copy of a slice from a DataFrame.\n",
      "Try using .loc[row_indexer,col_indexer] = value instead\n",
      "\n",
      "See the caveats in the documentation: https://pandas.pydata.org/pandas-docs/stable/user_guide/indexing.html#returning-a-view-versus-a-copy\n",
      "  new_db['actor_one'] = new_db['show_id'].map(tempdf.set_index('show_id')['actor1'])\n",
      "<ipython-input-57-92b9a4de01ba>:2: SettingWithCopyWarning: \n",
      "A value is trying to be set on a copy of a slice from a DataFrame.\n",
      "Try using .loc[row_indexer,col_indexer] = value instead\n",
      "\n",
      "See the caveats in the documentation: https://pandas.pydata.org/pandas-docs/stable/user_guide/indexing.html#returning-a-view-versus-a-copy\n",
      "  new_db['actor_two'] = new_db['show_id'].map(tempdf.set_index('show_id')['actor2'])\n",
      "<ipython-input-57-92b9a4de01ba>:3: SettingWithCopyWarning: \n",
      "A value is trying to be set on a copy of a slice from a DataFrame.\n",
      "Try using .loc[row_indexer,col_indexer] = value instead\n",
      "\n",
      "See the caveats in the documentation: https://pandas.pydata.org/pandas-docs/stable/user_guide/indexing.html#returning-a-view-versus-a-copy\n",
      "  new_db['actor_three'] = new_db['show_id'].map(tempdf.set_index('show_id')['actor3'])\n",
      "<ipython-input-57-92b9a4de01ba>:4: SettingWithCopyWarning: \n",
      "A value is trying to be set on a copy of a slice from a DataFrame.\n",
      "Try using .loc[row_indexer,col_indexer] = value instead\n",
      "\n",
      "See the caveats in the documentation: https://pandas.pydata.org/pandas-docs/stable/user_guide/indexing.html#returning-a-view-versus-a-copy\n",
      "  new_db['Director'] = new_db['show_id'].map(tempdf.set_index('show_id')['Main_director'])\n",
      "<ipython-input-57-92b9a4de01ba>:5: SettingWithCopyWarning: \n",
      "A value is trying to be set on a copy of a slice from a DataFrame.\n",
      "Try using .loc[row_indexer,col_indexer] = value instead\n",
      "\n",
      "See the caveats in the documentation: https://pandas.pydata.org/pandas-docs/stable/user_guide/indexing.html#returning-a-view-versus-a-copy\n",
      "  new_db['Duration'] = new_db['show_id'].map(tempdf.set_index('show_id')['duration'])\n",
      "<ipython-input-57-92b9a4de01ba>:6: SettingWithCopyWarning: \n",
      "A value is trying to be set on a copy of a slice from a DataFrame.\n",
      "Try using .loc[row_indexer,col_indexer] = value instead\n",
      "\n",
      "See the caveats in the documentation: https://pandas.pydata.org/pandas-docs/stable/user_guide/indexing.html#returning-a-view-versus-a-copy\n",
      "  new_db['Description'] = new_db['show_id'].map(tempdf.set_index('show_id')['description'])\n"
     ]
    }
   ],
   "source": [
    "new_db['actor_one'] = new_db['show_id'].map(tempdf.set_index('show_id')['actor1'])\n",
    "new_db['actor_two'] = new_db['show_id'].map(tempdf.set_index('show_id')['actor2'])\n",
    "new_db['actor_three'] = new_db['show_id'].map(tempdf.set_index('show_id')['actor3'])\n",
    "new_db['Director'] = new_db['show_id'].map(tempdf.set_index('show_id')['Main_director'])\n",
    "new_db['Duration'] = new_db['show_id'].map(tempdf.set_index('show_id')['duration'])\n",
    "new_db['Description'] = new_db['show_id'].map(tempdf.set_index('show_id')['description'])"
   ]
  },
  {
   "cell_type": "code",
   "execution_count": 58,
   "id": "0aa3434b-64fc-4ce4-8136-aea6530d82a9",
   "metadata": {},
   "outputs": [
    {
     "data": {
      "text/html": [
       "<div>\n",
       "<style scoped>\n",
       "    .dataframe tbody tr th:only-of-type {\n",
       "        vertical-align: middle;\n",
       "    }\n",
       "\n",
       "    .dataframe tbody tr th {\n",
       "        vertical-align: top;\n",
       "    }\n",
       "\n",
       "    .dataframe thead th {\n",
       "        text-align: right;\n",
       "    }\n",
       "</style>\n",
       "<table border=\"1\" class=\"dataframe\">\n",
       "  <thead>\n",
       "    <tr style=\"text-align: right;\">\n",
       "      <th></th>\n",
       "      <th>show_id</th>\n",
       "      <th>title</th>\n",
       "      <th>tags</th>\n",
       "      <th>imdb_id</th>\n",
       "      <th>actor_one</th>\n",
       "      <th>actor_two</th>\n",
       "      <th>actor_three</th>\n",
       "      <th>Director</th>\n",
       "      <th>Duration</th>\n",
       "      <th>Description</th>\n",
       "    </tr>\n",
       "  </thead>\n",
       "  <tbody>\n",
       "    <tr>\n",
       "      <th>0</th>\n",
       "      <td>s1</td>\n",
       "      <td>3%</td>\n",
       "      <td>futur elit inhabit island paradis far crowd sl...</td>\n",
       "      <td>4922804</td>\n",
       "      <td>João Miguel</td>\n",
       "      <td>Bianca Comparato</td>\n",
       "      <td>Michel Gomes</td>\n",
       "      <td>Unknown</td>\n",
       "      <td>4 Seasons</td>\n",
       "      <td>In a future where the elite inhabit an island ...</td>\n",
       "    </tr>\n",
       "    <tr>\n",
       "      <th>1</th>\n",
       "      <td>s2</td>\n",
       "      <td>7:19</td>\n",
       "      <td>devast earthquak hit mexico citi trap survivor...</td>\n",
       "      <td>5979312</td>\n",
       "      <td>Demián Bichir</td>\n",
       "      <td>Héctor Bonilla</td>\n",
       "      <td>Oscar Serrano</td>\n",
       "      <td>Jorge Michel Grau</td>\n",
       "      <td>93 min</td>\n",
       "      <td>After a devastating earthquake hits Mexico Cit...</td>\n",
       "    </tr>\n",
       "    <tr>\n",
       "      <th>2</th>\n",
       "      <td>s3</td>\n",
       "      <td>23:59</td>\n",
       "      <td>armi recruit found dead fellow soldier forc co...</td>\n",
       "      <td>2100376</td>\n",
       "      <td>Tedd Chan</td>\n",
       "      <td>Stella Chung</td>\n",
       "      <td>Henley Hii</td>\n",
       "      <td>Gilbert Chan</td>\n",
       "      <td>78 min</td>\n",
       "      <td>When an army recruit is found dead, his fellow...</td>\n",
       "    </tr>\n",
       "    <tr>\n",
       "      <th>3</th>\n",
       "      <td>s4</td>\n",
       "      <td>9</td>\n",
       "      <td>postapocalypt world ragdol robot hide fear dan...</td>\n",
       "      <td>472033</td>\n",
       "      <td>Elijah Wood</td>\n",
       "      <td>John C. Reilly</td>\n",
       "      <td>Jennifer Connelly</td>\n",
       "      <td>Shane Acker</td>\n",
       "      <td>80 min</td>\n",
       "      <td>In a postapocalyptic world, rag-doll robots hi...</td>\n",
       "    </tr>\n",
       "    <tr>\n",
       "      <th>4</th>\n",
       "      <td>s5</td>\n",
       "      <td>21</td>\n",
       "      <td>brilliant group student becom cardcount expert...</td>\n",
       "      <td>478087</td>\n",
       "      <td>Jim Sturgess</td>\n",
       "      <td>Kevin Spacey</td>\n",
       "      <td>Kate Bosworth</td>\n",
       "      <td>Robert Luketic</td>\n",
       "      <td>123 min</td>\n",
       "      <td>A brilliant group of students become card-coun...</td>\n",
       "    </tr>\n",
       "    <tr>\n",
       "      <th>...</th>\n",
       "      <td>...</td>\n",
       "      <td>...</td>\n",
       "      <td>...</td>\n",
       "      <td>...</td>\n",
       "      <td>...</td>\n",
       "      <td>...</td>\n",
       "      <td>...</td>\n",
       "      <td>...</td>\n",
       "      <td>...</td>\n",
       "      <td>...</td>\n",
       "    </tr>\n",
       "    <tr>\n",
       "      <th>7782</th>\n",
       "      <td>s7783</td>\n",
       "      <td>Zozo</td>\n",
       "      <td>lebanon civil war depriv zozo famili he left g...</td>\n",
       "      <td>448267</td>\n",
       "      <td>Imad Creidi</td>\n",
       "      <td>Antoinette Turk</td>\n",
       "      <td>Elias Gergi</td>\n",
       "      <td>Josef Fares</td>\n",
       "      <td>99 min</td>\n",
       "      <td>When Lebanon's Civil War deprives Zozo of his ...</td>\n",
       "    </tr>\n",
       "    <tr>\n",
       "      <th>7783</th>\n",
       "      <td>s7784</td>\n",
       "      <td>Zubaan</td>\n",
       "      <td>scrappi poor boy worm way tycoon dysfunct fami...</td>\n",
       "      <td>3776484</td>\n",
       "      <td>Vicky Kaushal</td>\n",
       "      <td>Sarah-Jane Dias</td>\n",
       "      <td>Raaghav Chanana</td>\n",
       "      <td>Mozez Singh</td>\n",
       "      <td>111 min</td>\n",
       "      <td>A scrappy but poor boy worms his way into a ty...</td>\n",
       "    </tr>\n",
       "    <tr>\n",
       "      <th>7784</th>\n",
       "      <td>s7785</td>\n",
       "      <td>Zulu Man in Japan</td>\n",
       "      <td>documentari south african rapper nasti c hit s...</td>\n",
       "      <td>15075334</td>\n",
       "      <td>Nasty C</td>\n",
       "      <td>Unknown</td>\n",
       "      <td>Unknown</td>\n",
       "      <td>Unknown</td>\n",
       "      <td>44 min</td>\n",
       "      <td>In this documentary, South African rapper Nast...</td>\n",
       "    </tr>\n",
       "    <tr>\n",
       "      <th>7785</th>\n",
       "      <td>s7786</td>\n",
       "      <td>Zumbo's Just Desserts</td>\n",
       "      <td>dessert wizard adriano zumbo look next “ willi...</td>\n",
       "      <td>7239256</td>\n",
       "      <td>Adriano Zumbo</td>\n",
       "      <td>Rachel Khoo</td>\n",
       "      <td>Unknown</td>\n",
       "      <td>Unknown</td>\n",
       "      <td>1 Season</td>\n",
       "      <td>Dessert wizard Adriano Zumbo looks for the nex...</td>\n",
       "    </tr>\n",
       "    <tr>\n",
       "      <th>7786</th>\n",
       "      <td>s7787</td>\n",
       "      <td>ZZ TOP: THAT LITTLE OL' BAND FROM TEXAS</td>\n",
       "      <td>documentari delv mystiqu behind bluesrock trio...</td>\n",
       "      <td>9015306</td>\n",
       "      <td>Unknown</td>\n",
       "      <td>Unknown</td>\n",
       "      <td>Unknown</td>\n",
       "      <td>Sam Dunn</td>\n",
       "      <td>90 min</td>\n",
       "      <td>This documentary delves into the mystique behi...</td>\n",
       "    </tr>\n",
       "  </tbody>\n",
       "</table>\n",
       "<p>7619 rows × 10 columns</p>\n",
       "</div>"
      ],
      "text/plain": [
       "     show_id                                    title  \\\n",
       "0         s1                                       3%   \n",
       "1         s2                                     7:19   \n",
       "2         s3                                    23:59   \n",
       "3         s4                                        9   \n",
       "4         s5                                       21   \n",
       "...      ...                                      ...   \n",
       "7782   s7783                                     Zozo   \n",
       "7783   s7784                                   Zubaan   \n",
       "7784   s7785                        Zulu Man in Japan   \n",
       "7785   s7786                    Zumbo's Just Desserts   \n",
       "7786   s7787  ZZ TOP: THAT LITTLE OL' BAND FROM TEXAS   \n",
       "\n",
       "                                                   tags   imdb_id  \\\n",
       "0     futur elit inhabit island paradis far crowd sl...   4922804   \n",
       "1     devast earthquak hit mexico citi trap survivor...   5979312   \n",
       "2     armi recruit found dead fellow soldier forc co...   2100376   \n",
       "3     postapocalypt world ragdol robot hide fear dan...    472033   \n",
       "4     brilliant group student becom cardcount expert...    478087   \n",
       "...                                                 ...       ...   \n",
       "7782  lebanon civil war depriv zozo famili he left g...    448267   \n",
       "7783  scrappi poor boy worm way tycoon dysfunct fami...   3776484   \n",
       "7784  documentari south african rapper nasti c hit s...  15075334   \n",
       "7785  dessert wizard adriano zumbo look next “ willi...   7239256   \n",
       "7786  documentari delv mystiqu behind bluesrock trio...   9015306   \n",
       "\n",
       "          actor_one         actor_two        actor_three           Director  \\\n",
       "0       João Miguel  Bianca Comparato       Michel Gomes            Unknown   \n",
       "1     Demián Bichir    Héctor Bonilla      Oscar Serrano  Jorge Michel Grau   \n",
       "2         Tedd Chan      Stella Chung         Henley Hii       Gilbert Chan   \n",
       "3       Elijah Wood    John C. Reilly  Jennifer Connelly        Shane Acker   \n",
       "4      Jim Sturgess      Kevin Spacey      Kate Bosworth     Robert Luketic   \n",
       "...             ...               ...                ...                ...   \n",
       "7782    Imad Creidi   Antoinette Turk        Elias Gergi        Josef Fares   \n",
       "7783  Vicky Kaushal   Sarah-Jane Dias    Raaghav Chanana        Mozez Singh   \n",
       "7784        Nasty C           Unknown            Unknown            Unknown   \n",
       "7785  Adriano Zumbo       Rachel Khoo            Unknown            Unknown   \n",
       "7786        Unknown           Unknown            Unknown           Sam Dunn   \n",
       "\n",
       "       Duration                                        Description  \n",
       "0     4 Seasons  In a future where the elite inhabit an island ...  \n",
       "1        93 min  After a devastating earthquake hits Mexico Cit...  \n",
       "2        78 min  When an army recruit is found dead, his fellow...  \n",
       "3        80 min  In a postapocalyptic world, rag-doll robots hi...  \n",
       "4       123 min  A brilliant group of students become card-coun...  \n",
       "...         ...                                                ...  \n",
       "7782     99 min  When Lebanon's Civil War deprives Zozo of his ...  \n",
       "7783    111 min  A scrappy but poor boy worms his way into a ty...  \n",
       "7784     44 min  In this documentary, South African rapper Nast...  \n",
       "7785   1 Season  Dessert wizard Adriano Zumbo looks for the nex...  \n",
       "7786     90 min  This documentary delves into the mystique behi...  \n",
       "\n",
       "[7619 rows x 10 columns]"
      ]
     },
     "execution_count": 58,
     "metadata": {},
     "output_type": "execute_result"
    }
   ],
   "source": [
    "new_db"
   ]
  },
  {
   "cell_type": "code",
   "execution_count": 59,
   "id": "bbe606b6-aa8e-4670-9418-160d72ede112",
   "metadata": {},
   "outputs": [
    {
     "name": "stderr",
     "output_type": "stream",
     "text": [
      "<ipython-input-59-6940d4aea280>:1: SettingWithCopyWarning: \n",
      "A value is trying to be set on a copy of a slice from a DataFrame.\n",
      "Try using .loc[row_indexer,col_indexer] = value instead\n",
      "\n",
      "See the caveats in the documentation: https://pandas.pydata.org/pandas-docs/stable/user_guide/indexing.html#returning-a-view-versus-a-copy\n",
      "  new_db['rating'] = new_db['show_id'].map(tempdf.set_index('show_id')['rating'])\n"
     ]
    }
   ],
   "source": [
    "new_db['rating'] = new_db['show_id'].map(tempdf.set_index('show_id')['rating'])"
   ]
  },
  {
   "cell_type": "code",
   "execution_count": 60,
   "id": "6a7b6605-310f-4279-bc7a-c25f1cebdc28",
   "metadata": {},
   "outputs": [
    {
     "data": {
      "text/html": [
       "<div>\n",
       "<style scoped>\n",
       "    .dataframe tbody tr th:only-of-type {\n",
       "        vertical-align: middle;\n",
       "    }\n",
       "\n",
       "    .dataframe tbody tr th {\n",
       "        vertical-align: top;\n",
       "    }\n",
       "\n",
       "    .dataframe thead th {\n",
       "        text-align: right;\n",
       "    }\n",
       "</style>\n",
       "<table border=\"1\" class=\"dataframe\">\n",
       "  <thead>\n",
       "    <tr style=\"text-align: right;\">\n",
       "      <th></th>\n",
       "      <th>show_id</th>\n",
       "      <th>title</th>\n",
       "      <th>tags</th>\n",
       "      <th>imdb_id</th>\n",
       "      <th>actor_one</th>\n",
       "      <th>actor_two</th>\n",
       "      <th>actor_three</th>\n",
       "      <th>Director</th>\n",
       "      <th>Duration</th>\n",
       "      <th>Description</th>\n",
       "      <th>rating</th>\n",
       "    </tr>\n",
       "  </thead>\n",
       "  <tbody>\n",
       "    <tr>\n",
       "      <th>0</th>\n",
       "      <td>s1</td>\n",
       "      <td>3%</td>\n",
       "      <td>futur elit inhabit island paradis far crowd sl...</td>\n",
       "      <td>4922804</td>\n",
       "      <td>João Miguel</td>\n",
       "      <td>Bianca Comparato</td>\n",
       "      <td>Michel Gomes</td>\n",
       "      <td>Unknown</td>\n",
       "      <td>4 Seasons</td>\n",
       "      <td>In a future where the elite inhabit an island ...</td>\n",
       "      <td>TV-MA</td>\n",
       "    </tr>\n",
       "    <tr>\n",
       "      <th>1</th>\n",
       "      <td>s2</td>\n",
       "      <td>7:19</td>\n",
       "      <td>devast earthquak hit mexico citi trap survivor...</td>\n",
       "      <td>5979312</td>\n",
       "      <td>Demián Bichir</td>\n",
       "      <td>Héctor Bonilla</td>\n",
       "      <td>Oscar Serrano</td>\n",
       "      <td>Jorge Michel Grau</td>\n",
       "      <td>93 min</td>\n",
       "      <td>After a devastating earthquake hits Mexico Cit...</td>\n",
       "      <td>TV-MA</td>\n",
       "    </tr>\n",
       "    <tr>\n",
       "      <th>2</th>\n",
       "      <td>s3</td>\n",
       "      <td>23:59</td>\n",
       "      <td>armi recruit found dead fellow soldier forc co...</td>\n",
       "      <td>2100376</td>\n",
       "      <td>Tedd Chan</td>\n",
       "      <td>Stella Chung</td>\n",
       "      <td>Henley Hii</td>\n",
       "      <td>Gilbert Chan</td>\n",
       "      <td>78 min</td>\n",
       "      <td>When an army recruit is found dead, his fellow...</td>\n",
       "      <td>R</td>\n",
       "    </tr>\n",
       "    <tr>\n",
       "      <th>3</th>\n",
       "      <td>s4</td>\n",
       "      <td>9</td>\n",
       "      <td>postapocalypt world ragdol robot hide fear dan...</td>\n",
       "      <td>472033</td>\n",
       "      <td>Elijah Wood</td>\n",
       "      <td>John C. Reilly</td>\n",
       "      <td>Jennifer Connelly</td>\n",
       "      <td>Shane Acker</td>\n",
       "      <td>80 min</td>\n",
       "      <td>In a postapocalyptic world, rag-doll robots hi...</td>\n",
       "      <td>PG-13</td>\n",
       "    </tr>\n",
       "    <tr>\n",
       "      <th>4</th>\n",
       "      <td>s5</td>\n",
       "      <td>21</td>\n",
       "      <td>brilliant group student becom cardcount expert...</td>\n",
       "      <td>478087</td>\n",
       "      <td>Jim Sturgess</td>\n",
       "      <td>Kevin Spacey</td>\n",
       "      <td>Kate Bosworth</td>\n",
       "      <td>Robert Luketic</td>\n",
       "      <td>123 min</td>\n",
       "      <td>A brilliant group of students become card-coun...</td>\n",
       "      <td>PG-13</td>\n",
       "    </tr>\n",
       "    <tr>\n",
       "      <th>...</th>\n",
       "      <td>...</td>\n",
       "      <td>...</td>\n",
       "      <td>...</td>\n",
       "      <td>...</td>\n",
       "      <td>...</td>\n",
       "      <td>...</td>\n",
       "      <td>...</td>\n",
       "      <td>...</td>\n",
       "      <td>...</td>\n",
       "      <td>...</td>\n",
       "      <td>...</td>\n",
       "    </tr>\n",
       "    <tr>\n",
       "      <th>7782</th>\n",
       "      <td>s7783</td>\n",
       "      <td>Zozo</td>\n",
       "      <td>lebanon civil war depriv zozo famili he left g...</td>\n",
       "      <td>448267</td>\n",
       "      <td>Imad Creidi</td>\n",
       "      <td>Antoinette Turk</td>\n",
       "      <td>Elias Gergi</td>\n",
       "      <td>Josef Fares</td>\n",
       "      <td>99 min</td>\n",
       "      <td>When Lebanon's Civil War deprives Zozo of his ...</td>\n",
       "      <td>TV-MA</td>\n",
       "    </tr>\n",
       "    <tr>\n",
       "      <th>7783</th>\n",
       "      <td>s7784</td>\n",
       "      <td>Zubaan</td>\n",
       "      <td>scrappi poor boy worm way tycoon dysfunct fami...</td>\n",
       "      <td>3776484</td>\n",
       "      <td>Vicky Kaushal</td>\n",
       "      <td>Sarah-Jane Dias</td>\n",
       "      <td>Raaghav Chanana</td>\n",
       "      <td>Mozez Singh</td>\n",
       "      <td>111 min</td>\n",
       "      <td>A scrappy but poor boy worms his way into a ty...</td>\n",
       "      <td>TV-14</td>\n",
       "    </tr>\n",
       "    <tr>\n",
       "      <th>7784</th>\n",
       "      <td>s7785</td>\n",
       "      <td>Zulu Man in Japan</td>\n",
       "      <td>documentari south african rapper nasti c hit s...</td>\n",
       "      <td>15075334</td>\n",
       "      <td>Nasty C</td>\n",
       "      <td>Unknown</td>\n",
       "      <td>Unknown</td>\n",
       "      <td>Unknown</td>\n",
       "      <td>44 min</td>\n",
       "      <td>In this documentary, South African rapper Nast...</td>\n",
       "      <td>TV-MA</td>\n",
       "    </tr>\n",
       "    <tr>\n",
       "      <th>7785</th>\n",
       "      <td>s7786</td>\n",
       "      <td>Zumbo's Just Desserts</td>\n",
       "      <td>dessert wizard adriano zumbo look next “ willi...</td>\n",
       "      <td>7239256</td>\n",
       "      <td>Adriano Zumbo</td>\n",
       "      <td>Rachel Khoo</td>\n",
       "      <td>Unknown</td>\n",
       "      <td>Unknown</td>\n",
       "      <td>1 Season</td>\n",
       "      <td>Dessert wizard Adriano Zumbo looks for the nex...</td>\n",
       "      <td>TV-PG</td>\n",
       "    </tr>\n",
       "    <tr>\n",
       "      <th>7786</th>\n",
       "      <td>s7787</td>\n",
       "      <td>ZZ TOP: THAT LITTLE OL' BAND FROM TEXAS</td>\n",
       "      <td>documentari delv mystiqu behind bluesrock trio...</td>\n",
       "      <td>9015306</td>\n",
       "      <td>Unknown</td>\n",
       "      <td>Unknown</td>\n",
       "      <td>Unknown</td>\n",
       "      <td>Sam Dunn</td>\n",
       "      <td>90 min</td>\n",
       "      <td>This documentary delves into the mystique behi...</td>\n",
       "      <td>TV-MA</td>\n",
       "    </tr>\n",
       "  </tbody>\n",
       "</table>\n",
       "<p>7619 rows × 11 columns</p>\n",
       "</div>"
      ],
      "text/plain": [
       "     show_id                                    title  \\\n",
       "0         s1                                       3%   \n",
       "1         s2                                     7:19   \n",
       "2         s3                                    23:59   \n",
       "3         s4                                        9   \n",
       "4         s5                                       21   \n",
       "...      ...                                      ...   \n",
       "7782   s7783                                     Zozo   \n",
       "7783   s7784                                   Zubaan   \n",
       "7784   s7785                        Zulu Man in Japan   \n",
       "7785   s7786                    Zumbo's Just Desserts   \n",
       "7786   s7787  ZZ TOP: THAT LITTLE OL' BAND FROM TEXAS   \n",
       "\n",
       "                                                   tags   imdb_id  \\\n",
       "0     futur elit inhabit island paradis far crowd sl...   4922804   \n",
       "1     devast earthquak hit mexico citi trap survivor...   5979312   \n",
       "2     armi recruit found dead fellow soldier forc co...   2100376   \n",
       "3     postapocalypt world ragdol robot hide fear dan...    472033   \n",
       "4     brilliant group student becom cardcount expert...    478087   \n",
       "...                                                 ...       ...   \n",
       "7782  lebanon civil war depriv zozo famili he left g...    448267   \n",
       "7783  scrappi poor boy worm way tycoon dysfunct fami...   3776484   \n",
       "7784  documentari south african rapper nasti c hit s...  15075334   \n",
       "7785  dessert wizard adriano zumbo look next “ willi...   7239256   \n",
       "7786  documentari delv mystiqu behind bluesrock trio...   9015306   \n",
       "\n",
       "          actor_one         actor_two        actor_three           Director  \\\n",
       "0       João Miguel  Bianca Comparato       Michel Gomes            Unknown   \n",
       "1     Demián Bichir    Héctor Bonilla      Oscar Serrano  Jorge Michel Grau   \n",
       "2         Tedd Chan      Stella Chung         Henley Hii       Gilbert Chan   \n",
       "3       Elijah Wood    John C. Reilly  Jennifer Connelly        Shane Acker   \n",
       "4      Jim Sturgess      Kevin Spacey      Kate Bosworth     Robert Luketic   \n",
       "...             ...               ...                ...                ...   \n",
       "7782    Imad Creidi   Antoinette Turk        Elias Gergi        Josef Fares   \n",
       "7783  Vicky Kaushal   Sarah-Jane Dias    Raaghav Chanana        Mozez Singh   \n",
       "7784        Nasty C           Unknown            Unknown            Unknown   \n",
       "7785  Adriano Zumbo       Rachel Khoo            Unknown            Unknown   \n",
       "7786        Unknown           Unknown            Unknown           Sam Dunn   \n",
       "\n",
       "       Duration                                        Description rating  \n",
       "0     4 Seasons  In a future where the elite inhabit an island ...  TV-MA  \n",
       "1        93 min  After a devastating earthquake hits Mexico Cit...  TV-MA  \n",
       "2        78 min  When an army recruit is found dead, his fellow...      R  \n",
       "3        80 min  In a postapocalyptic world, rag-doll robots hi...  PG-13  \n",
       "4       123 min  A brilliant group of students become card-coun...  PG-13  \n",
       "...         ...                                                ...    ...  \n",
       "7782     99 min  When Lebanon's Civil War deprives Zozo of his ...  TV-MA  \n",
       "7783    111 min  A scrappy but poor boy worms his way into a ty...  TV-14  \n",
       "7784     44 min  In this documentary, South African rapper Nast...  TV-MA  \n",
       "7785   1 Season  Dessert wizard Adriano Zumbo looks for the nex...  TV-PG  \n",
       "7786     90 min  This documentary delves into the mystique behi...  TV-MA  \n",
       "\n",
       "[7619 rows x 11 columns]"
      ]
     },
     "execution_count": 60,
     "metadata": {},
     "output_type": "execute_result"
    }
   ],
   "source": [
    "new_db"
   ]
  },
  {
   "cell_type": "markdown",
   "id": "2d593f66-827c-4a4a-bc6e-fcdb231548da",
   "metadata": {},
   "source": [
    "#### Creating a duration amount attribute which holds the :\"duration\" attribute as an integer value"
   ]
  },
  {
   "cell_type": "code",
   "execution_count": 61,
   "id": "bf51b541-e07f-4e12-ab9b-43f1737aa0c3",
   "metadata": {},
   "outputs": [],
   "source": [
    "def getdurationamount(temp):\n",
    "    lst = [int(s) for s in temp.split() if s.isdigit()]\n",
    "    return lst"
   ]
  },
  {
   "cell_type": "code",
   "execution_count": 62,
   "id": "1620ce09-07cb-429f-ae45-e32dce198dee",
   "metadata": {},
   "outputs": [
    {
     "name": "stderr",
     "output_type": "stream",
     "text": [
      "<ipython-input-62-88ffe428736b>:1: SettingWithCopyWarning: \n",
      "A value is trying to be set on a copy of a slice from a DataFrame.\n",
      "Try using .loc[row_indexer,col_indexer] = value instead\n",
      "\n",
      "See the caveats in the documentation: https://pandas.pydata.org/pandas-docs/stable/user_guide/indexing.html#returning-a-view-versus-a-copy\n",
      "  new_db[\"duration_as_int\"] = new_db['Duration'].apply(lambda x: getdurationamount(x))\n"
     ]
    }
   ],
   "source": [
    "new_db[\"duration_as_int\"] = new_db['Duration'].apply(lambda x: getdurationamount(x))"
   ]
  },
  {
   "cell_type": "code",
   "execution_count": 63,
   "id": "b60fd1f6-34b1-41e0-8de0-c96127728dd1",
   "metadata": {},
   "outputs": [
    {
     "name": "stderr",
     "output_type": "stream",
     "text": [
      "<ipython-input-63-f0d58542a219>:1: SettingWithCopyWarning: \n",
      "A value is trying to be set on a copy of a slice from a DataFrame.\n",
      "Try using .loc[row_indexer,col_indexer] = value instead\n",
      "\n",
      "See the caveats in the documentation: https://pandas.pydata.org/pandas-docs/stable/user_guide/indexing.html#returning-a-view-versus-a-copy\n",
      "  new_db['duration_as_int'] = new_db['duration_as_int'].apply(lambda x: int(''.join(map(str,x))))\n"
     ]
    }
   ],
   "source": [
    "new_db['duration_as_int'] = new_db['duration_as_int'].apply(lambda x: int(''.join(map(str,x))))"
   ]
  },
  {
   "cell_type": "code",
   "execution_count": 64,
   "id": "758d6100-ba79-4589-85be-de6836e311ef",
   "metadata": {},
   "outputs": [
    {
     "name": "stderr",
     "output_type": "stream",
     "text": [
      "<ipython-input-64-42ebb62bfca6>:1: SettingWithCopyWarning: \n",
      "A value is trying to be set on a copy of a slice from a DataFrame.\n",
      "Try using .loc[row_indexer,col_indexer] = value instead\n",
      "\n",
      "See the caveats in the documentation: https://pandas.pydata.org/pandas-docs/stable/user_guide/indexing.html#returning-a-view-versus-a-copy\n",
      "  new_db['type'] = new_db['show_id'].map(tempdf.set_index('show_id')['type'])\n"
     ]
    }
   ],
   "source": [
    "new_db['type'] = new_db['show_id'].map(tempdf.set_index('show_id')['type'])"
   ]
  },
  {
   "cell_type": "markdown",
   "id": "b3cc3100-f3a1-40a9-ac77-79a1e0ce4a02",
   "metadata": {},
   "source": [
    "### Below data is the final data to be fed into the execution code. "
   ]
  },
  {
   "cell_type": "code",
   "execution_count": 65,
   "id": "97042e33-0f85-4e33-961b-dfc7e2062c9e",
   "metadata": {},
   "outputs": [
    {
     "data": {
      "text/html": [
       "<div>\n",
       "<style scoped>\n",
       "    .dataframe tbody tr th:only-of-type {\n",
       "        vertical-align: middle;\n",
       "    }\n",
       "\n",
       "    .dataframe tbody tr th {\n",
       "        vertical-align: top;\n",
       "    }\n",
       "\n",
       "    .dataframe thead th {\n",
       "        text-align: right;\n",
       "    }\n",
       "</style>\n",
       "<table border=\"1\" class=\"dataframe\">\n",
       "  <thead>\n",
       "    <tr style=\"text-align: right;\">\n",
       "      <th></th>\n",
       "      <th>show_id</th>\n",
       "      <th>title</th>\n",
       "      <th>tags</th>\n",
       "      <th>imdb_id</th>\n",
       "      <th>actor_one</th>\n",
       "      <th>actor_two</th>\n",
       "      <th>actor_three</th>\n",
       "      <th>Director</th>\n",
       "      <th>Duration</th>\n",
       "      <th>Description</th>\n",
       "      <th>rating</th>\n",
       "      <th>duration_as_int</th>\n",
       "      <th>type</th>\n",
       "    </tr>\n",
       "  </thead>\n",
       "  <tbody>\n",
       "    <tr>\n",
       "      <th>0</th>\n",
       "      <td>s1</td>\n",
       "      <td>3%</td>\n",
       "      <td>futur elit inhabit island paradis far crowd sl...</td>\n",
       "      <td>4922804</td>\n",
       "      <td>João Miguel</td>\n",
       "      <td>Bianca Comparato</td>\n",
       "      <td>Michel Gomes</td>\n",
       "      <td>Unknown</td>\n",
       "      <td>4 Seasons</td>\n",
       "      <td>In a future where the elite inhabit an island ...</td>\n",
       "      <td>TV-MA</td>\n",
       "      <td>4</td>\n",
       "      <td>TV Show</td>\n",
       "    </tr>\n",
       "    <tr>\n",
       "      <th>1</th>\n",
       "      <td>s2</td>\n",
       "      <td>7:19</td>\n",
       "      <td>devast earthquak hit mexico citi trap survivor...</td>\n",
       "      <td>5979312</td>\n",
       "      <td>Demián Bichir</td>\n",
       "      <td>Héctor Bonilla</td>\n",
       "      <td>Oscar Serrano</td>\n",
       "      <td>Jorge Michel Grau</td>\n",
       "      <td>93 min</td>\n",
       "      <td>After a devastating earthquake hits Mexico Cit...</td>\n",
       "      <td>TV-MA</td>\n",
       "      <td>93</td>\n",
       "      <td>Movie</td>\n",
       "    </tr>\n",
       "    <tr>\n",
       "      <th>2</th>\n",
       "      <td>s3</td>\n",
       "      <td>23:59</td>\n",
       "      <td>armi recruit found dead fellow soldier forc co...</td>\n",
       "      <td>2100376</td>\n",
       "      <td>Tedd Chan</td>\n",
       "      <td>Stella Chung</td>\n",
       "      <td>Henley Hii</td>\n",
       "      <td>Gilbert Chan</td>\n",
       "      <td>78 min</td>\n",
       "      <td>When an army recruit is found dead, his fellow...</td>\n",
       "      <td>R</td>\n",
       "      <td>78</td>\n",
       "      <td>Movie</td>\n",
       "    </tr>\n",
       "    <tr>\n",
       "      <th>3</th>\n",
       "      <td>s4</td>\n",
       "      <td>9</td>\n",
       "      <td>postapocalypt world ragdol robot hide fear dan...</td>\n",
       "      <td>472033</td>\n",
       "      <td>Elijah Wood</td>\n",
       "      <td>John C. Reilly</td>\n",
       "      <td>Jennifer Connelly</td>\n",
       "      <td>Shane Acker</td>\n",
       "      <td>80 min</td>\n",
       "      <td>In a postapocalyptic world, rag-doll robots hi...</td>\n",
       "      <td>PG-13</td>\n",
       "      <td>80</td>\n",
       "      <td>Movie</td>\n",
       "    </tr>\n",
       "    <tr>\n",
       "      <th>4</th>\n",
       "      <td>s5</td>\n",
       "      <td>21</td>\n",
       "      <td>brilliant group student becom cardcount expert...</td>\n",
       "      <td>478087</td>\n",
       "      <td>Jim Sturgess</td>\n",
       "      <td>Kevin Spacey</td>\n",
       "      <td>Kate Bosworth</td>\n",
       "      <td>Robert Luketic</td>\n",
       "      <td>123 min</td>\n",
       "      <td>A brilliant group of students become card-coun...</td>\n",
       "      <td>PG-13</td>\n",
       "      <td>123</td>\n",
       "      <td>Movie</td>\n",
       "    </tr>\n",
       "    <tr>\n",
       "      <th>...</th>\n",
       "      <td>...</td>\n",
       "      <td>...</td>\n",
       "      <td>...</td>\n",
       "      <td>...</td>\n",
       "      <td>...</td>\n",
       "      <td>...</td>\n",
       "      <td>...</td>\n",
       "      <td>...</td>\n",
       "      <td>...</td>\n",
       "      <td>...</td>\n",
       "      <td>...</td>\n",
       "      <td>...</td>\n",
       "      <td>...</td>\n",
       "    </tr>\n",
       "    <tr>\n",
       "      <th>7782</th>\n",
       "      <td>s7783</td>\n",
       "      <td>Zozo</td>\n",
       "      <td>lebanon civil war depriv zozo famili he left g...</td>\n",
       "      <td>448267</td>\n",
       "      <td>Imad Creidi</td>\n",
       "      <td>Antoinette Turk</td>\n",
       "      <td>Elias Gergi</td>\n",
       "      <td>Josef Fares</td>\n",
       "      <td>99 min</td>\n",
       "      <td>When Lebanon's Civil War deprives Zozo of his ...</td>\n",
       "      <td>TV-MA</td>\n",
       "      <td>99</td>\n",
       "      <td>Movie</td>\n",
       "    </tr>\n",
       "    <tr>\n",
       "      <th>7783</th>\n",
       "      <td>s7784</td>\n",
       "      <td>Zubaan</td>\n",
       "      <td>scrappi poor boy worm way tycoon dysfunct fami...</td>\n",
       "      <td>3776484</td>\n",
       "      <td>Vicky Kaushal</td>\n",
       "      <td>Sarah-Jane Dias</td>\n",
       "      <td>Raaghav Chanana</td>\n",
       "      <td>Mozez Singh</td>\n",
       "      <td>111 min</td>\n",
       "      <td>A scrappy but poor boy worms his way into a ty...</td>\n",
       "      <td>TV-14</td>\n",
       "      <td>111</td>\n",
       "      <td>Movie</td>\n",
       "    </tr>\n",
       "    <tr>\n",
       "      <th>7784</th>\n",
       "      <td>s7785</td>\n",
       "      <td>Zulu Man in Japan</td>\n",
       "      <td>documentari south african rapper nasti c hit s...</td>\n",
       "      <td>15075334</td>\n",
       "      <td>Nasty C</td>\n",
       "      <td>Unknown</td>\n",
       "      <td>Unknown</td>\n",
       "      <td>Unknown</td>\n",
       "      <td>44 min</td>\n",
       "      <td>In this documentary, South African rapper Nast...</td>\n",
       "      <td>TV-MA</td>\n",
       "      <td>44</td>\n",
       "      <td>Movie</td>\n",
       "    </tr>\n",
       "    <tr>\n",
       "      <th>7785</th>\n",
       "      <td>s7786</td>\n",
       "      <td>Zumbo's Just Desserts</td>\n",
       "      <td>dessert wizard adriano zumbo look next “ willi...</td>\n",
       "      <td>7239256</td>\n",
       "      <td>Adriano Zumbo</td>\n",
       "      <td>Rachel Khoo</td>\n",
       "      <td>Unknown</td>\n",
       "      <td>Unknown</td>\n",
       "      <td>1 Season</td>\n",
       "      <td>Dessert wizard Adriano Zumbo looks for the nex...</td>\n",
       "      <td>TV-PG</td>\n",
       "      <td>1</td>\n",
       "      <td>TV Show</td>\n",
       "    </tr>\n",
       "    <tr>\n",
       "      <th>7786</th>\n",
       "      <td>s7787</td>\n",
       "      <td>ZZ TOP: THAT LITTLE OL' BAND FROM TEXAS</td>\n",
       "      <td>documentari delv mystiqu behind bluesrock trio...</td>\n",
       "      <td>9015306</td>\n",
       "      <td>Unknown</td>\n",
       "      <td>Unknown</td>\n",
       "      <td>Unknown</td>\n",
       "      <td>Sam Dunn</td>\n",
       "      <td>90 min</td>\n",
       "      <td>This documentary delves into the mystique behi...</td>\n",
       "      <td>TV-MA</td>\n",
       "      <td>90</td>\n",
       "      <td>Movie</td>\n",
       "    </tr>\n",
       "  </tbody>\n",
       "</table>\n",
       "<p>7619 rows × 13 columns</p>\n",
       "</div>"
      ],
      "text/plain": [
       "     show_id                                    title  \\\n",
       "0         s1                                       3%   \n",
       "1         s2                                     7:19   \n",
       "2         s3                                    23:59   \n",
       "3         s4                                        9   \n",
       "4         s5                                       21   \n",
       "...      ...                                      ...   \n",
       "7782   s7783                                     Zozo   \n",
       "7783   s7784                                   Zubaan   \n",
       "7784   s7785                        Zulu Man in Japan   \n",
       "7785   s7786                    Zumbo's Just Desserts   \n",
       "7786   s7787  ZZ TOP: THAT LITTLE OL' BAND FROM TEXAS   \n",
       "\n",
       "                                                   tags   imdb_id  \\\n",
       "0     futur elit inhabit island paradis far crowd sl...   4922804   \n",
       "1     devast earthquak hit mexico citi trap survivor...   5979312   \n",
       "2     armi recruit found dead fellow soldier forc co...   2100376   \n",
       "3     postapocalypt world ragdol robot hide fear dan...    472033   \n",
       "4     brilliant group student becom cardcount expert...    478087   \n",
       "...                                                 ...       ...   \n",
       "7782  lebanon civil war depriv zozo famili he left g...    448267   \n",
       "7783  scrappi poor boy worm way tycoon dysfunct fami...   3776484   \n",
       "7784  documentari south african rapper nasti c hit s...  15075334   \n",
       "7785  dessert wizard adriano zumbo look next “ willi...   7239256   \n",
       "7786  documentari delv mystiqu behind bluesrock trio...   9015306   \n",
       "\n",
       "          actor_one         actor_two        actor_three           Director  \\\n",
       "0       João Miguel  Bianca Comparato       Michel Gomes            Unknown   \n",
       "1     Demián Bichir    Héctor Bonilla      Oscar Serrano  Jorge Michel Grau   \n",
       "2         Tedd Chan      Stella Chung         Henley Hii       Gilbert Chan   \n",
       "3       Elijah Wood    John C. Reilly  Jennifer Connelly        Shane Acker   \n",
       "4      Jim Sturgess      Kevin Spacey      Kate Bosworth     Robert Luketic   \n",
       "...             ...               ...                ...                ...   \n",
       "7782    Imad Creidi   Antoinette Turk        Elias Gergi        Josef Fares   \n",
       "7783  Vicky Kaushal   Sarah-Jane Dias    Raaghav Chanana        Mozez Singh   \n",
       "7784        Nasty C           Unknown            Unknown            Unknown   \n",
       "7785  Adriano Zumbo       Rachel Khoo            Unknown            Unknown   \n",
       "7786        Unknown           Unknown            Unknown           Sam Dunn   \n",
       "\n",
       "       Duration                                        Description rating  \\\n",
       "0     4 Seasons  In a future where the elite inhabit an island ...  TV-MA   \n",
       "1        93 min  After a devastating earthquake hits Mexico Cit...  TV-MA   \n",
       "2        78 min  When an army recruit is found dead, his fellow...      R   \n",
       "3        80 min  In a postapocalyptic world, rag-doll robots hi...  PG-13   \n",
       "4       123 min  A brilliant group of students become card-coun...  PG-13   \n",
       "...         ...                                                ...    ...   \n",
       "7782     99 min  When Lebanon's Civil War deprives Zozo of his ...  TV-MA   \n",
       "7783    111 min  A scrappy but poor boy worms his way into a ty...  TV-14   \n",
       "7784     44 min  In this documentary, South African rapper Nast...  TV-MA   \n",
       "7785   1 Season  Dessert wizard Adriano Zumbo looks for the nex...  TV-PG   \n",
       "7786     90 min  This documentary delves into the mystique behi...  TV-MA   \n",
       "\n",
       "      duration_as_int     type  \n",
       "0                   4  TV Show  \n",
       "1                  93    Movie  \n",
       "2                  78    Movie  \n",
       "3                  80    Movie  \n",
       "4                 123    Movie  \n",
       "...               ...      ...  \n",
       "7782               99    Movie  \n",
       "7783              111    Movie  \n",
       "7784               44    Movie  \n",
       "7785                1  TV Show  \n",
       "7786               90    Movie  \n",
       "\n",
       "[7619 rows x 13 columns]"
      ]
     },
     "execution_count": 65,
     "metadata": {},
     "output_type": "execute_result"
    }
   ],
   "source": [
    "new_db"
   ]
  },
  {
   "cell_type": "markdown",
   "id": "de733542-76a9-4062-ab06-82f079a3d85e",
   "metadata": {},
   "source": [
    "### Exporting the data in .pkl file"
   ]
  },
  {
   "cell_type": "code",
   "execution_count": 68,
   "id": "49dd47e5-86f7-4694-88fc-8e662a86f909",
   "metadata": {},
   "outputs": [],
   "source": [
    "#import pickle"
   ]
  },
  {
   "cell_type": "code",
   "execution_count": 69,
   "id": "12f25662-9b93-4887-93b5-b06d27af39bb",
   "metadata": {},
   "outputs": [],
   "source": [
    "#pickle.dump(new_db.to_dict(),open('testdb.pkl','wb'))"
   ]
  }
 ],
 "metadata": {
  "kernelspec": {
   "display_name": "Python 3",
   "language": "python",
   "name": "python3"
  },
  "language_info": {
   "codemirror_mode": {
    "name": "ipython",
    "version": 3
   },
   "file_extension": ".py",
   "mimetype": "text/x-python",
   "name": "python",
   "nbconvert_exporter": "python",
   "pygments_lexer": "ipython3",
   "version": "3.9.5"
  }
 },
 "nbformat": 4,
 "nbformat_minor": 5
}
